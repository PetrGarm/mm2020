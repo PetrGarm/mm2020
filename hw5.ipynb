{
 "cells": [
  {
   "cell_type": "markdown",
   "metadata": {},
   "source": [
    "# HA5"
   ]
  },
  {
   "cell_type": "code",
   "execution_count": 1,
   "metadata": {},
   "outputs": [],
   "source": [
    "# Importing libraries"
   ]
  },
  {
   "cell_type": "code",
   "execution_count": 2,
   "metadata": {},
   "outputs": [],
   "source": [
    "import numpy as np\n",
    "import pandas as pd\n",
    "import matplotlib.pyplot as plt"
   ]
  },
  {
   "cell_type": "code",
   "execution_count": 52,
   "metadata": {},
   "outputs": [],
   "source": [
    "%matplotlib inline"
   ]
  },
  {
   "cell_type": "code",
   "execution_count": 53,
   "metadata": {},
   "outputs": [],
   "source": [
    "plt.style.use('ggplot')"
   ]
  },
  {
   "cell_type": "code",
   "execution_count": 3,
   "metadata": {},
   "outputs": [],
   "source": [
    "data = pd.read_csv('diamonds_500.csv')"
   ]
  },
  {
   "cell_type": "code",
   "execution_count": 4,
   "metadata": {},
   "outputs": [
    {
     "data": {
      "text/html": [
       "<div>\n",
       "<style scoped>\n",
       "    .dataframe tbody tr th:only-of-type {\n",
       "        vertical-align: middle;\n",
       "    }\n",
       "\n",
       "    .dataframe tbody tr th {\n",
       "        vertical-align: top;\n",
       "    }\n",
       "\n",
       "    .dataframe thead th {\n",
       "        text-align: right;\n",
       "    }\n",
       "</style>\n",
       "<table border=\"1\" class=\"dataframe\">\n",
       "  <thead>\n",
       "    <tr style=\"text-align: right;\">\n",
       "      <th></th>\n",
       "      <th>carat</th>\n",
       "      <th>cut</th>\n",
       "      <th>depth</th>\n",
       "      <th>price</th>\n",
       "      <th>x</th>\n",
       "      <th>y</th>\n",
       "      <th>z</th>\n",
       "    </tr>\n",
       "  </thead>\n",
       "  <tbody>\n",
       "    <tr>\n",
       "      <th>0</th>\n",
       "      <td>1.00</td>\n",
       "      <td>Very Good</td>\n",
       "      <td>63.5</td>\n",
       "      <td>3858</td>\n",
       "      <td>6.37</td>\n",
       "      <td>6.32</td>\n",
       "      <td>4.03</td>\n",
       "    </tr>\n",
       "    <tr>\n",
       "      <th>1</th>\n",
       "      <td>1.02</td>\n",
       "      <td>Very Good</td>\n",
       "      <td>61.6</td>\n",
       "      <td>4291</td>\n",
       "      <td>6.46</td>\n",
       "      <td>6.47</td>\n",
       "      <td>3.98</td>\n",
       "    </tr>\n",
       "    <tr>\n",
       "      <th>2</th>\n",
       "      <td>1.25</td>\n",
       "      <td>Premium</td>\n",
       "      <td>62.0</td>\n",
       "      <td>8099</td>\n",
       "      <td>6.88</td>\n",
       "      <td>6.84</td>\n",
       "      <td>4.25</td>\n",
       "    </tr>\n",
       "    <tr>\n",
       "      <th>3</th>\n",
       "      <td>0.80</td>\n",
       "      <td>Very Good</td>\n",
       "      <td>61.9</td>\n",
       "      <td>3737</td>\n",
       "      <td>5.93</td>\n",
       "      <td>5.96</td>\n",
       "      <td>3.69</td>\n",
       "    </tr>\n",
       "    <tr>\n",
       "      <th>4</th>\n",
       "      <td>0.91</td>\n",
       "      <td>Good</td>\n",
       "      <td>59.9</td>\n",
       "      <td>4309</td>\n",
       "      <td>6.18</td>\n",
       "      <td>6.24</td>\n",
       "      <td>3.72</td>\n",
       "    </tr>\n",
       "  </tbody>\n",
       "</table>\n",
       "</div>"
      ],
      "text/plain": [
       "   carat        cut  depth  price     x     y     z\n",
       "0   1.00  Very Good   63.5   3858  6.37  6.32  4.03\n",
       "1   1.02  Very Good   61.6   4291  6.46  6.47  3.98\n",
       "2   1.25    Premium   62.0   8099  6.88  6.84  4.25\n",
       "3   0.80  Very Good   61.9   3737  5.93  5.96  3.69\n",
       "4   0.91       Good   59.9   4309  6.18  6.24  3.72"
      ]
     },
     "execution_count": 4,
     "metadata": {},
     "output_type": "execute_result"
    }
   ],
   "source": [
    "data.head()"
   ]
  },
  {
   "cell_type": "markdown",
   "metadata": {},
   "source": [
    "# Selecting subset features"
   ]
  },
  {
   "cell_type": "code",
   "execution_count": 5,
   "metadata": {},
   "outputs": [
    {
     "data": {
      "text/html": [
       "<div>\n",
       "<style scoped>\n",
       "    .dataframe tbody tr th:only-of-type {\n",
       "        vertical-align: middle;\n",
       "    }\n",
       "\n",
       "    .dataframe tbody tr th {\n",
       "        vertical-align: top;\n",
       "    }\n",
       "\n",
       "    .dataframe thead th {\n",
       "        text-align: right;\n",
       "    }\n",
       "</style>\n",
       "<table border=\"1\" class=\"dataframe\">\n",
       "  <thead>\n",
       "    <tr style=\"text-align: right;\">\n",
       "      <th></th>\n",
       "      <th>carat</th>\n",
       "      <th>depth</th>\n",
       "      <th>price</th>\n",
       "      <th>x</th>\n",
       "      <th>y</th>\n",
       "      <th>z</th>\n",
       "    </tr>\n",
       "  </thead>\n",
       "  <tbody>\n",
       "    <tr>\n",
       "      <th>carat</th>\n",
       "      <td>1.000000</td>\n",
       "      <td>0.000490</td>\n",
       "      <td>0.913612</td>\n",
       "      <td>0.978323</td>\n",
       "      <td>0.978141</td>\n",
       "      <td>0.975653</td>\n",
       "    </tr>\n",
       "    <tr>\n",
       "      <th>depth</th>\n",
       "      <td>0.000490</td>\n",
       "      <td>1.000000</td>\n",
       "      <td>-0.019945</td>\n",
       "      <td>-0.034895</td>\n",
       "      <td>-0.036634</td>\n",
       "      <td>0.082426</td>\n",
       "    </tr>\n",
       "    <tr>\n",
       "      <th>price</th>\n",
       "      <td>0.913612</td>\n",
       "      <td>-0.019945</td>\n",
       "      <td>1.000000</td>\n",
       "      <td>0.877762</td>\n",
       "      <td>0.880222</td>\n",
       "      <td>0.874172</td>\n",
       "    </tr>\n",
       "    <tr>\n",
       "      <th>x</th>\n",
       "      <td>0.978323</td>\n",
       "      <td>-0.034895</td>\n",
       "      <td>0.877762</td>\n",
       "      <td>1.000000</td>\n",
       "      <td>0.999005</td>\n",
       "      <td>0.992642</td>\n",
       "    </tr>\n",
       "    <tr>\n",
       "      <th>y</th>\n",
       "      <td>0.978141</td>\n",
       "      <td>-0.036634</td>\n",
       "      <td>0.880222</td>\n",
       "      <td>0.999005</td>\n",
       "      <td>1.000000</td>\n",
       "      <td>0.992485</td>\n",
       "    </tr>\n",
       "    <tr>\n",
       "      <th>z</th>\n",
       "      <td>0.975653</td>\n",
       "      <td>0.082426</td>\n",
       "      <td>0.874172</td>\n",
       "      <td>0.992642</td>\n",
       "      <td>0.992485</td>\n",
       "      <td>1.000000</td>\n",
       "    </tr>\n",
       "  </tbody>\n",
       "</table>\n",
       "</div>"
      ],
      "text/plain": [
       "          carat     depth     price         x         y         z\n",
       "carat  1.000000  0.000490  0.913612  0.978323  0.978141  0.975653\n",
       "depth  0.000490  1.000000 -0.019945 -0.034895 -0.036634  0.082426\n",
       "price  0.913612 -0.019945  1.000000  0.877762  0.880222  0.874172\n",
       "x      0.978323 -0.034895  0.877762  1.000000  0.999005  0.992642\n",
       "y      0.978141 -0.036634  0.880222  0.999005  1.000000  0.992485\n",
       "z      0.975653  0.082426  0.874172  0.992642  0.992485  1.000000"
      ]
     },
     "execution_count": 5,
     "metadata": {},
     "output_type": "execute_result"
    }
   ],
   "source": [
    "data.corr()"
   ]
  },
  {
   "cell_type": "markdown",
   "metadata": {},
   "source": [
    "select 'carat', 'x', 'y', 'z' features, becouse this features has high corellations with each other."
   ]
  },
  {
   "cell_type": "code",
   "execution_count": 18,
   "metadata": {},
   "outputs": [],
   "source": [
    "selected_features = data[['carat', 'x', 'y', 'z']]"
   ]
  },
  {
   "cell_type": "code",
   "execution_count": 19,
   "metadata": {},
   "outputs": [
    {
     "data": {
      "text/html": [
       "<div>\n",
       "<style scoped>\n",
       "    .dataframe tbody tr th:only-of-type {\n",
       "        vertical-align: middle;\n",
       "    }\n",
       "\n",
       "    .dataframe tbody tr th {\n",
       "        vertical-align: top;\n",
       "    }\n",
       "\n",
       "    .dataframe thead th {\n",
       "        text-align: right;\n",
       "    }\n",
       "</style>\n",
       "<table border=\"1\" class=\"dataframe\">\n",
       "  <thead>\n",
       "    <tr style=\"text-align: right;\">\n",
       "      <th></th>\n",
       "      <th>carat</th>\n",
       "      <th>x</th>\n",
       "      <th>y</th>\n",
       "      <th>z</th>\n",
       "    </tr>\n",
       "  </thead>\n",
       "  <tbody>\n",
       "    <tr>\n",
       "      <th>0</th>\n",
       "      <td>1.00</td>\n",
       "      <td>6.37</td>\n",
       "      <td>6.32</td>\n",
       "      <td>4.03</td>\n",
       "    </tr>\n",
       "    <tr>\n",
       "      <th>1</th>\n",
       "      <td>1.02</td>\n",
       "      <td>6.46</td>\n",
       "      <td>6.47</td>\n",
       "      <td>3.98</td>\n",
       "    </tr>\n",
       "    <tr>\n",
       "      <th>2</th>\n",
       "      <td>1.25</td>\n",
       "      <td>6.88</td>\n",
       "      <td>6.84</td>\n",
       "      <td>4.25</td>\n",
       "    </tr>\n",
       "    <tr>\n",
       "      <th>3</th>\n",
       "      <td>0.80</td>\n",
       "      <td>5.93</td>\n",
       "      <td>5.96</td>\n",
       "      <td>3.69</td>\n",
       "    </tr>\n",
       "    <tr>\n",
       "      <th>4</th>\n",
       "      <td>0.91</td>\n",
       "      <td>6.18</td>\n",
       "      <td>6.24</td>\n",
       "      <td>3.72</td>\n",
       "    </tr>\n",
       "    <tr>\n",
       "      <th>...</th>\n",
       "      <td>...</td>\n",
       "      <td>...</td>\n",
       "      <td>...</td>\n",
       "      <td>...</td>\n",
       "    </tr>\n",
       "    <tr>\n",
       "      <th>495</th>\n",
       "      <td>0.41</td>\n",
       "      <td>4.69</td>\n",
       "      <td>4.72</td>\n",
       "      <td>2.94</td>\n",
       "    </tr>\n",
       "    <tr>\n",
       "      <th>496</th>\n",
       "      <td>0.90</td>\n",
       "      <td>6.22</td>\n",
       "      <td>6.27</td>\n",
       "      <td>3.77</td>\n",
       "    </tr>\n",
       "    <tr>\n",
       "      <th>497</th>\n",
       "      <td>0.30</td>\n",
       "      <td>4.30</td>\n",
       "      <td>4.25</td>\n",
       "      <td>2.70</td>\n",
       "    </tr>\n",
       "    <tr>\n",
       "      <th>498</th>\n",
       "      <td>0.51</td>\n",
       "      <td>5.16</td>\n",
       "      <td>5.13</td>\n",
       "      <td>3.16</td>\n",
       "    </tr>\n",
       "    <tr>\n",
       "      <th>499</th>\n",
       "      <td>0.36</td>\n",
       "      <td>4.57</td>\n",
       "      <td>4.61</td>\n",
       "      <td>2.79</td>\n",
       "    </tr>\n",
       "  </tbody>\n",
       "</table>\n",
       "<p>500 rows × 4 columns</p>\n",
       "</div>"
      ],
      "text/plain": [
       "     carat     x     y     z\n",
       "0     1.00  6.37  6.32  4.03\n",
       "1     1.02  6.46  6.47  3.98\n",
       "2     1.25  6.88  6.84  4.25\n",
       "3     0.80  5.93  5.96  3.69\n",
       "4     0.91  6.18  6.24  3.72\n",
       "..     ...   ...   ...   ...\n",
       "495   0.41  4.69  4.72  2.94\n",
       "496   0.90  6.22  6.27  3.77\n",
       "497   0.30  4.30  4.25  2.70\n",
       "498   0.51  5.16  5.13  3.16\n",
       "499   0.36  4.57  4.61  2.79\n",
       "\n",
       "[500 rows x 4 columns]"
      ]
     },
     "execution_count": 19,
     "metadata": {},
     "output_type": "execute_result"
    }
   ],
   "source": [
    "selected_features"
   ]
  },
  {
   "cell_type": "markdown",
   "metadata": {},
   "source": [
    "# Data standartization"
   ]
  },
  {
   "cell_type": "code",
   "execution_count": 20,
   "metadata": {},
   "outputs": [],
   "source": [
    "def standardizer(data):\n",
    "    mean = data.mean(axis = 0)\n",
    "    std = data.std(axis = 0)\n",
    "    \n",
    "    minimum = data.min(axis = 0)\n",
    "    maximum = data.max(axis = 0)\n",
    "    \n",
    "    zscore = (data - mean)/std\n",
    "    rng = (data - mean)/(maximum - minimum)\n",
    "    rank = (data - minimum)/(maximum - minimum)\n",
    "    return zscore, rng, rank"
   ]
  },
  {
   "cell_type": "code",
   "execution_count": 21,
   "metadata": {},
   "outputs": [],
   "source": [
    "zscore, rng, rank = standardizer(selected_features)"
   ]
  },
  {
   "cell_type": "code",
   "execution_count": 22,
   "metadata": {},
   "outputs": [
    {
     "data": {
      "text/html": [
       "<div>\n",
       "<style scoped>\n",
       "    .dataframe tbody tr th:only-of-type {\n",
       "        vertical-align: middle;\n",
       "    }\n",
       "\n",
       "    .dataframe tbody tr th {\n",
       "        vertical-align: top;\n",
       "    }\n",
       "\n",
       "    .dataframe thead th {\n",
       "        text-align: right;\n",
       "    }\n",
       "</style>\n",
       "<table border=\"1\" class=\"dataframe\">\n",
       "  <thead>\n",
       "    <tr style=\"text-align: right;\">\n",
       "      <th></th>\n",
       "      <th>carat</th>\n",
       "      <th>x</th>\n",
       "      <th>y</th>\n",
       "      <th>z</th>\n",
       "    </tr>\n",
       "  </thead>\n",
       "  <tbody>\n",
       "    <tr>\n",
       "      <th>0</th>\n",
       "      <td>0.072108</td>\n",
       "      <td>0.115161</td>\n",
       "      <td>0.106754</td>\n",
       "      <td>0.149294</td>\n",
       "    </tr>\n",
       "    <tr>\n",
       "      <th>1</th>\n",
       "      <td>0.079302</td>\n",
       "      <td>0.131797</td>\n",
       "      <td>0.134897</td>\n",
       "      <td>0.133669</td>\n",
       "    </tr>\n",
       "    <tr>\n",
       "      <th>2</th>\n",
       "      <td>0.162036</td>\n",
       "      <td>0.209431</td>\n",
       "      <td>0.204315</td>\n",
       "      <td>0.218044</td>\n",
       "    </tr>\n",
       "    <tr>\n",
       "      <th>3</th>\n",
       "      <td>0.000165</td>\n",
       "      <td>0.033830</td>\n",
       "      <td>0.039212</td>\n",
       "      <td>0.043044</td>\n",
       "    </tr>\n",
       "    <tr>\n",
       "      <th>4</th>\n",
       "      <td>0.039734</td>\n",
       "      <td>0.080041</td>\n",
       "      <td>0.091745</td>\n",
       "      <td>0.052419</td>\n",
       "    </tr>\n",
       "    <tr>\n",
       "      <th>...</th>\n",
       "      <td>...</td>\n",
       "      <td>...</td>\n",
       "      <td>...</td>\n",
       "      <td>...</td>\n",
       "    </tr>\n",
       "    <tr>\n",
       "      <th>495</th>\n",
       "      <td>-0.140122</td>\n",
       "      <td>-0.195375</td>\n",
       "      <td>-0.193433</td>\n",
       "      <td>-0.191331</td>\n",
       "    </tr>\n",
       "    <tr>\n",
       "      <th>496</th>\n",
       "      <td>0.036137</td>\n",
       "      <td>0.087434</td>\n",
       "      <td>0.097373</td>\n",
       "      <td>0.068044</td>\n",
       "    </tr>\n",
       "    <tr>\n",
       "      <th>497</th>\n",
       "      <td>-0.179691</td>\n",
       "      <td>-0.267464</td>\n",
       "      <td>-0.281614</td>\n",
       "      <td>-0.266331</td>\n",
       "    </tr>\n",
       "    <tr>\n",
       "      <th>498</th>\n",
       "      <td>-0.104151</td>\n",
       "      <td>-0.108499</td>\n",
       "      <td>-0.116510</td>\n",
       "      <td>-0.122581</td>\n",
       "    </tr>\n",
       "    <tr>\n",
       "      <th>499</th>\n",
       "      <td>-0.158108</td>\n",
       "      <td>-0.217556</td>\n",
       "      <td>-0.214071</td>\n",
       "      <td>-0.238206</td>\n",
       "    </tr>\n",
       "  </tbody>\n",
       "</table>\n",
       "<p>500 rows × 4 columns</p>\n",
       "</div>"
      ],
      "text/plain": [
       "        carat         x         y         z\n",
       "0    0.072108  0.115161  0.106754  0.149294\n",
       "1    0.079302  0.131797  0.134897  0.133669\n",
       "2    0.162036  0.209431  0.204315  0.218044\n",
       "3    0.000165  0.033830  0.039212  0.043044\n",
       "4    0.039734  0.080041  0.091745  0.052419\n",
       "..        ...       ...       ...       ...\n",
       "495 -0.140122 -0.195375 -0.193433 -0.191331\n",
       "496  0.036137  0.087434  0.097373  0.068044\n",
       "497 -0.179691 -0.267464 -0.281614 -0.266331\n",
       "498 -0.104151 -0.108499 -0.116510 -0.122581\n",
       "499 -0.158108 -0.217556 -0.214071 -0.238206\n",
       "\n",
       "[500 rows x 4 columns]"
      ]
     },
     "execution_count": 22,
     "metadata": {},
     "output_type": "execute_result"
    }
   ],
   "source": [
    "rng"
   ]
  },
  {
   "cell_type": "code",
   "execution_count": 23,
   "metadata": {},
   "outputs": [
    {
     "data": {
      "text/html": [
       "<div>\n",
       "<style scoped>\n",
       "    .dataframe tbody tr th:only-of-type {\n",
       "        vertical-align: middle;\n",
       "    }\n",
       "\n",
       "    .dataframe tbody tr th {\n",
       "        vertical-align: top;\n",
       "    }\n",
       "\n",
       "    .dataframe thead th {\n",
       "        text-align: right;\n",
       "    }\n",
       "</style>\n",
       "<table border=\"1\" class=\"dataframe\">\n",
       "  <thead>\n",
       "    <tr style=\"text-align: right;\">\n",
       "      <th></th>\n",
       "      <th>carat</th>\n",
       "      <th>x</th>\n",
       "      <th>y</th>\n",
       "      <th>z</th>\n",
       "    </tr>\n",
       "  </thead>\n",
       "  <tbody>\n",
       "    <tr>\n",
       "      <th>0</th>\n",
       "      <td>0.276978</td>\n",
       "      <td>0.447320</td>\n",
       "      <td>0.439024</td>\n",
       "      <td>0.503125</td>\n",
       "    </tr>\n",
       "    <tr>\n",
       "      <th>1</th>\n",
       "      <td>0.284173</td>\n",
       "      <td>0.463956</td>\n",
       "      <td>0.467167</td>\n",
       "      <td>0.487500</td>\n",
       "    </tr>\n",
       "    <tr>\n",
       "      <th>2</th>\n",
       "      <td>0.366906</td>\n",
       "      <td>0.541590</td>\n",
       "      <td>0.536585</td>\n",
       "      <td>0.571875</td>\n",
       "    </tr>\n",
       "    <tr>\n",
       "      <th>3</th>\n",
       "      <td>0.205036</td>\n",
       "      <td>0.365989</td>\n",
       "      <td>0.371482</td>\n",
       "      <td>0.396875</td>\n",
       "    </tr>\n",
       "    <tr>\n",
       "      <th>4</th>\n",
       "      <td>0.244604</td>\n",
       "      <td>0.412200</td>\n",
       "      <td>0.424015</td>\n",
       "      <td>0.406250</td>\n",
       "    </tr>\n",
       "    <tr>\n",
       "      <th>...</th>\n",
       "      <td>...</td>\n",
       "      <td>...</td>\n",
       "      <td>...</td>\n",
       "      <td>...</td>\n",
       "    </tr>\n",
       "    <tr>\n",
       "      <th>495</th>\n",
       "      <td>0.064748</td>\n",
       "      <td>0.136784</td>\n",
       "      <td>0.138837</td>\n",
       "      <td>0.162500</td>\n",
       "    </tr>\n",
       "    <tr>\n",
       "      <th>496</th>\n",
       "      <td>0.241007</td>\n",
       "      <td>0.419593</td>\n",
       "      <td>0.429644</td>\n",
       "      <td>0.421875</td>\n",
       "    </tr>\n",
       "    <tr>\n",
       "      <th>497</th>\n",
       "      <td>0.025180</td>\n",
       "      <td>0.064695</td>\n",
       "      <td>0.050657</td>\n",
       "      <td>0.087500</td>\n",
       "    </tr>\n",
       "    <tr>\n",
       "      <th>498</th>\n",
       "      <td>0.100719</td>\n",
       "      <td>0.223660</td>\n",
       "      <td>0.215760</td>\n",
       "      <td>0.231250</td>\n",
       "    </tr>\n",
       "    <tr>\n",
       "      <th>499</th>\n",
       "      <td>0.046763</td>\n",
       "      <td>0.114603</td>\n",
       "      <td>0.118199</td>\n",
       "      <td>0.115625</td>\n",
       "    </tr>\n",
       "  </tbody>\n",
       "</table>\n",
       "<p>500 rows × 4 columns</p>\n",
       "</div>"
      ],
      "text/plain": [
       "        carat         x         y         z\n",
       "0    0.276978  0.447320  0.439024  0.503125\n",
       "1    0.284173  0.463956  0.467167  0.487500\n",
       "2    0.366906  0.541590  0.536585  0.571875\n",
       "3    0.205036  0.365989  0.371482  0.396875\n",
       "4    0.244604  0.412200  0.424015  0.406250\n",
       "..        ...       ...       ...       ...\n",
       "495  0.064748  0.136784  0.138837  0.162500\n",
       "496  0.241007  0.419593  0.429644  0.421875\n",
       "497  0.025180  0.064695  0.050657  0.087500\n",
       "498  0.100719  0.223660  0.215760  0.231250\n",
       "499  0.046763  0.114603  0.118199  0.115625\n",
       "\n",
       "[500 rows x 4 columns]"
      ]
     },
     "execution_count": 23,
     "metadata": {},
     "output_type": "execute_result"
    }
   ],
   "source": [
    "rank"
   ]
  },
  {
   "cell_type": "markdown",
   "metadata": {},
   "source": [
    "# singular decomposition"
   ]
  },
  {
   "cell_type": "code",
   "execution_count": 24,
   "metadata": {},
   "outputs": [],
   "source": [
    "def singular_decomposition(x):\n",
    "    # Compute singular triplets\n",
    "    z, mu, c = np.linalg.svd(x, full_matrices=True)  \n",
    "    z = -z\n",
    "    c = -c \n",
    "    mu_arg_max = np.argmax(mu)\n",
    "    \n",
    "    n_contributions = np.power(mu, 2)\n",
    "    ds = np.sum(np.power(x, 2))  # Data Scatter\n",
    "    p_contributions = np.divide(n_contributions, ds)\n",
    "\n",
    "    return z, mu, c, n_contributions, p_contributions, mu_arg_max"
   ]
  },
  {
   "cell_type": "code",
   "execution_count": 31,
   "metadata": {},
   "outputs": [],
   "source": [
    "def print_summory(x):\n",
    "    z, mu, c, n_contributions, p_contributions, mu_arg_max = singular_decomposition(x)\n",
    "    print('Natural contributions :', *n_contributions.round(4))\n",
    "    print('Percent contributions :', *(100*np.array(p_contributions)).round(4))\n",
    "    print('loadings of 1st component :', *c[mu_arg_max, :].round(4))"
   ]
  },
  {
   "cell_type": "code",
   "execution_count": 32,
   "metadata": {},
   "outputs": [
    {
     "name": "stdout",
     "output_type": "stream",
     "text": [
      "original data\n",
      "Natural contributions : 41113.6678 47.5922 2.6679 0.5758\n",
      "Percent contributions : 99.8765 0.1156 0.0065 0.0014\n",
      "loadings of 1st component : 0.0959 0.6448 0.6452 0.3985\n",
      "****************************************************************************************************\n",
      "Z-Scored standardized data\n",
      "Natural contributions : 1975.1343 15.5909 4.7787 0.4961\n",
      "Percent contributions : 98.9546 0.7811 0.2394 0.0249\n",
      "loadings of 1st component : 0.4967 0.5015 0.5015 0.5003\n",
      "****************************************************************************************************\n",
      "Ranked standardized data\n",
      "Natural contributions : 268.1312 1.0109 0.2032 0.0203\n",
      "Percent contributions : 99.5417 0.3753 0.0755 0.0075\n",
      "loadings of 1st component : 0.3549 0.5287 0.5303 0.5596\n",
      "****************************************************************************************************\n",
      "Ranged standardized data\n",
      "Natural contributions : 74.7274 0.466 0.2015 0.02\n",
      "Percent contributions : 99.0884 0.6179 0.2672 0.0265\n",
      "loadings of 1st component : 0.4217 0.5148 0.5201 0.5354\n",
      "****************************************************************************************************\n"
     ]
    }
   ],
   "source": [
    "for d in [('original data', selected_features), \n",
    "          ('Z-Scored standardized data', zscore), \n",
    "          ('Ranked standardized data', rank),\n",
    "          ('Ranged standardized data', rng)]:\n",
    "    print(d[0])\n",
    "    print_summory(np.array(d[1]))\n",
    "    print('*'*100)"
   ]
  },
  {
   "cell_type": "code",
   "execution_count": 38,
   "metadata": {},
   "outputs": [],
   "source": [
    "from sklearn.decomposition import PCA"
   ]
  },
  {
   "cell_type": "code",
   "execution_count": 58,
   "metadata": {},
   "outputs": [],
   "source": [
    "z_comp = pca.fit_transform(zscore)\n",
    "orig_comp = pca.fit_transform(selected_features)\n",
    "rank_comp = pca.fit_transform(rank)\n",
    "range_comp = pca.fit_transform(rng)\n",
    "\n",
    "names = ['Z-normalization', 'Original data', 'Rank-normalization', 'Range-normalization']\n",
    "tasks = [z_comp, orig_comp, rank_comp, range_comp]"
   ]
  },
  {
   "cell_type": "code",
   "execution_count": 67,
   "metadata": {},
   "outputs": [
    {
     "data": {
      "image/png": "[encoded data removed]",
      "text/plain": [
       "<Figure size 432x288 with 1 Axes>"
      ]
     },
     "metadata": {},
     "output_type": "display_data"
    },
    {
     "data": {
      "image/png": "[encoded data removed]",
      "text/plain": [
       "<Figure size 432x288 with 1 Axes>"
      ]
     },
     "metadata": {},
     "output_type": "display_data"
    },
    {
     "data": {
      "image/png": "[encoded data removed]",
      "text/plain": [
       "<Figure size 432x288 with 1 Axes>"
      ]
     },
     "metadata": {},
     "output_type": "display_data"
    },
    {
     "data": {
      "image/png": "[encoded data removed]",
      "text/plain": [
       "<Figure size 432x288 with 1 Axes>"
      ]
     },
     "metadata": {},
     "output_type": "display_data"
    }
   ],
   "source": [
    "for task, name in zip(tasks, names):\n",
    "    plt.title(f\"Principal components for {name}\")\n",
    "    plt.scatter(task[:,0], task[:,1], c=data['price'] > 10000);\n",
    "    plt.xlabel(\"First component\")\n",
    "    plt.ylabel(\"Second component\")\n",
    "    plt.savefig(f\"{name}.png\")\n",
    "    plt.show();"
   ]
  },
  {
   "cell_type": "markdown",
   "metadata": {},
   "source": [
    "Considering z_score standardized data : <p>\n",
    "* First component contribution is equal to 98.95 % \n",
    "* Second component contribution is equal to 0.78 % \n",
    "* Third component contribution is equal to 0.23 % \n",
    "* Fourth component contribution is equal to 0.02 %\n",
    "<p> The first component has the biggest contribution (98.95 %), other components have less than 1% contribution.\n",
    "<p> Meaning the factor expresses the quality of diamond."
   ]
  },
  {
   "cell_type": "markdown",
   "metadata": {},
   "source": [
    "To scale to 0-100, one needs to find $\\alpha$ using the following Eqn. <p>\n",
    "$ z_{1} = \\alpha \\times( 100 \\times c_{1,1} + ... + 100 \\times c_{1,v}) $ <p>\n",
    "$ z_1 = 100 $ <p>\n",
    "$ \\alpha = 1/(c_{1,1} + ... + c_{1,v}) $\n",
    "    "
   ]
  },
  {
   "cell_type": "code",
   "execution_count": 15,
   "metadata": {},
   "outputs": [],
   "source": [
    "def ranking_factor(x, n):\n",
    "    # apply svd we used\n",
    "    _, _, c, _, _,arg_max_mu = singular_decomposition(x)\n",
    "    c_max_comp = c[arg_max_mu, :]\n",
    "    alpha = 1/np.sum(c_max_comp)\n",
    "    # get loadings\n",
    "    loading = c_max_comp*alpha \n",
    "    # to recieve ranking factors\n",
    "    ranking_factors = 100*x@(loading)\n",
    "    # To get top 5\n",
    "    arg_top_n = np.argsort(ranking_factors)[::-1][:5]\n",
    "    top_n = ranking_factors[arg_top_n]\n",
    "    return c_max_comp, loading, arg_top_n, top_n"
   ]
  },
  {
   "cell_type": "code",
   "execution_count": 16,
   "metadata": {},
   "outputs": [],
   "source": [
    "c_max_comp, loading, arg_top_n, top_n = ranking_factor(np.array(rank), 5)"
   ]
  },
  {
   "cell_type": "code",
   "execution_count": 17,
   "metadata": {},
   "outputs": [
    {
     "name": "stdout",
     "output_type": "stream",
     "text": [
      "c :  0.3549 0.5287 0.5303 0.5596\n",
      "loading :  0.1798 0.2679 0.2687 0.2835\n",
      "top_5 :  100.0 87.2928 84.8058 82.678 81.5255\n",
      "arg_top_5 :  127 326 453 156 246\n"
     ]
    }
   ],
   "source": [
    "print('c : ', *c_max_comp.round(4))\n",
    "print('loading : ', *loading.round(4))\n",
    "print('top_5 : ', *top_n.round(4))\n",
    "print('arg_top_5 : ', * arg_top_n.round(4))"
   ]
  },
  {
   "cell_type": "markdown",
   "metadata": {},
   "source": [
    "* there is the perfect diamond (value of ranking factor is 100). It is 127 diamond. This diamond is the best."
   ]
  }
 ],
 "metadata": {
  "kernelspec": {
   "display_name": "Python 3",
   "language": "python",
   "name": "python3"
  },
  "language_info": {
   "codemirror_mode": {
    "name": "ipython",
    "version": 3
   },
   "file_extension": ".py",
   "mimetype": "text/x-python",
   "name": "python",
   "nbconvert_exporter": "python",
   "pygments_lexer": "ipython3",
   "version": "3.8.3"
  }
 },
 "nbformat": 4,
 "nbformat_minor": 2
}
