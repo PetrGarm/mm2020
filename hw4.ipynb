{
 "cells": [
  {
   "cell_type": "markdown",
   "metadata": {},
   "source": [
    "# HW 4"
   ]
  },
  {
   "cell_type": "code",
   "execution_count": null,
   "metadata": {},
   "outputs": [],
   "source": [
    "# Importing libraries"
   ]
  },
  {
   "cell_type": "code",
   "execution_count": 80,
   "metadata": {},
   "outputs": [],
   "source": [
    "import pandas as pd\n",
    "import numpy as np\n",
    "import matplotlib.pyplot as plt"
   ]
  },
  {
   "cell_type": "code",
   "execution_count": 81,
   "metadata": {},
   "outputs": [],
   "source": [
    "# Loading dataset and creating pandas dataframe"
   ]
  },
  {
   "cell_type": "code",
   "execution_count": 82,
   "metadata": {},
   "outputs": [],
   "source": [
    "data = pd.read_csv('diamonds_500.csv')"
   ]
  },
  {
   "cell_type": "code",
   "execution_count": 83,
   "metadata": {},
   "outputs": [
    {
     "data": {
      "text/html": [
       "<div>\n",
       "<style scoped>\n",
       "    .dataframe tbody tr th:only-of-type {\n",
       "        vertical-align: middle;\n",
       "    }\n",
       "\n",
       "    .dataframe tbody tr th {\n",
       "        vertical-align: top;\n",
       "    }\n",
       "\n",
       "    .dataframe thead th {\n",
       "        text-align: right;\n",
       "    }\n",
       "</style>\n",
       "<table border=\"1\" class=\"dataframe\">\n",
       "  <thead>\n",
       "    <tr style=\"text-align: right;\">\n",
       "      <th></th>\n",
       "      <th>carat</th>\n",
       "      <th>cut</th>\n",
       "      <th>depth</th>\n",
       "      <th>price</th>\n",
       "      <th>x</th>\n",
       "      <th>y</th>\n",
       "      <th>z</th>\n",
       "    </tr>\n",
       "  </thead>\n",
       "  <tbody>\n",
       "    <tr>\n",
       "      <th>0</th>\n",
       "      <td>1.00</td>\n",
       "      <td>Very Good</td>\n",
       "      <td>63.5</td>\n",
       "      <td>3858</td>\n",
       "      <td>6.37</td>\n",
       "      <td>6.32</td>\n",
       "      <td>4.03</td>\n",
       "    </tr>\n",
       "    <tr>\n",
       "      <th>1</th>\n",
       "      <td>1.02</td>\n",
       "      <td>Very Good</td>\n",
       "      <td>61.6</td>\n",
       "      <td>4291</td>\n",
       "      <td>6.46</td>\n",
       "      <td>6.47</td>\n",
       "      <td>3.98</td>\n",
       "    </tr>\n",
       "    <tr>\n",
       "      <th>2</th>\n",
       "      <td>1.25</td>\n",
       "      <td>Premium</td>\n",
       "      <td>62.0</td>\n",
       "      <td>8099</td>\n",
       "      <td>6.88</td>\n",
       "      <td>6.84</td>\n",
       "      <td>4.25</td>\n",
       "    </tr>\n",
       "    <tr>\n",
       "      <th>3</th>\n",
       "      <td>0.80</td>\n",
       "      <td>Very Good</td>\n",
       "      <td>61.9</td>\n",
       "      <td>3737</td>\n",
       "      <td>5.93</td>\n",
       "      <td>5.96</td>\n",
       "      <td>3.69</td>\n",
       "    </tr>\n",
       "    <tr>\n",
       "      <th>4</th>\n",
       "      <td>0.91</td>\n",
       "      <td>Good</td>\n",
       "      <td>59.9</td>\n",
       "      <td>4309</td>\n",
       "      <td>6.18</td>\n",
       "      <td>6.24</td>\n",
       "      <td>3.72</td>\n",
       "    </tr>\n",
       "  </tbody>\n",
       "</table>\n",
       "</div>"
      ],
      "text/plain": [
       "   carat        cut  depth  price     x     y     z\n",
       "0   1.00  Very Good   63.5   3858  6.37  6.32  4.03\n",
       "1   1.02  Very Good   61.6   4291  6.46  6.47  3.98\n",
       "2   1.25    Premium   62.0   8099  6.88  6.84  4.25\n",
       "3   0.80  Very Good   61.9   3737  5.93  5.96  3.69\n",
       "4   0.91       Good   59.9   4309  6.18  6.24  3.72"
      ]
     },
     "execution_count": 83,
     "metadata": {},
     "output_type": "execute_result"
    }
   ],
   "source": [
    "data.head()"
   ]
  },
  {
   "cell_type": "markdown",
   "metadata": {},
   "source": [
    "This dataset has 1 nominal feature (cut). We consider next features : \n",
    "* price\n",
    "* cut\n",
    "* depth"
   ]
  },
  {
   "cell_type": "markdown",
   "metadata": {},
   "source": [
    "- look on histogram of features 'price' and 'depth'"
   ]
  },
  {
   "cell_type": "code",
   "execution_count": 84,
   "metadata": {},
   "outputs": [
    {
     "data": {
      "image/png": "[encoded data removed]",
      "text/plain": [
       "<Figure size 1152x360 with 2 Axes>"
      ]
     },
     "metadata": {
      "needs_background": "light"
     },
     "output_type": "display_data"
    }
   ],
   "source": [
    "fig, ax = plt.subplots(ncols=2, figsize = (16,5))\n",
    "ax[0].hist(data['price'], bins = 20, edgecolor='black')\n",
    "ax[0].set_title(\"Histogram of feature 'price' \")\n",
    "ax[1].hist(data['depth'], bins = 20, edgecolor='black')\n",
    "ax[1].set_title(\"Histogram of feature 'depth' \");\n",
    "\n",
    "plt.savefig('price_depth_hist.png')"
   ]
  },
  {
   "cell_type": "markdown",
   "metadata": {},
   "source": [
    "- Look on range of price and depth features."
   ]
  },
  {
   "cell_type": "code",
   "execution_count": 85,
   "metadata": {},
   "outputs": [
    {
     "name": "stdout",
     "output_type": "stream",
     "text": [
      "Range price feature : [ 337 ,  18784 ]\n",
      "Range depth feature : [ 56.8 ,  66.5 ]\n"
     ]
    }
   ],
   "source": [
    "print('Range price feature : [', data['price'].min() , ', ', data['price'].max() , ']')\n",
    "print('Range depth feature : [', data['depth'].min() , ', ', data['depth'].max() , ']')"
   ]
  },
  {
   "cell_type": "markdown",
   "metadata": {},
   "source": [
    "[0, 2500), [2500, 7500), [7500, 12500) [12500, 20000] and [0, 61), [61, 63), [64, 66.5] boundaries is used to categorize 'price' and 'depth' features.<p>\n",
    " After categorizing selected features, we get new features 'price_categorize' (3 category) and 'depth_categorize' (3 category). Feature 'cut' include 3 category."
   ]
  },
  {
   "cell_type": "markdown",
   "metadata": {},
   "source": [
    "### Categorizing selected features"
   ]
  },
  {
   "cell_type": "code",
   "execution_count": 86,
   "metadata": {},
   "outputs": [],
   "source": [
    "boundary_carat = [0, 2500, 10000, 20000]\n",
    "boundary_depth = [0, 61, 63, 66.5]\n",
    "\n",
    "data['price_categorize'] = pd.cut(data['price'], boundary_carat)\n",
    "data['depth_categorize'] = pd.cut(data['depth'], boundary_depth)"
   ]
  },
  {
   "cell_type": "code",
   "execution_count": 87,
   "metadata": {},
   "outputs": [],
   "source": [
    "def contingency_table(data, value, index, columns):\n",
    "    \n",
    "    # Build pivot table\n",
    "    pivot_table = pd.pivot_table(data, value, \n",
    "                                 index = index, \n",
    "                                 columns = columns, \n",
    "                                 aggfunc = 'count',\n",
    "                                fill_value = 0)\n",
    "    \n",
    "    # Get sum (all, rows, cols)\n",
    "    count_elemnts = pivot_table.sum().sum()\n",
    "    sum_by_row = pivot_table.sum(axis = 1)\n",
    "    sum_by_col = pivot_table.sum(axis = 0)\n",
    "    \n",
    "    # Compute probabitilites table\n",
    "    prob_table = (pivot_table/count_elemnts)\n",
    "    \n",
    "    # Compute marginal probabilities table\n",
    "    marginal_table = pivot_table.copy()\n",
    "    \n",
    "    for col in marginal_table.columns:\n",
    "        marginal_table[col] = marginal_table[col] / sum_by_col[col]\n",
    "    \n",
    "    return (pivot_table, prob_table, marginal_table)"
   ]
  },
  {
   "cell_type": "code",
   "execution_count": 88,
   "metadata": {},
   "outputs": [],
   "source": [
    "tables_price_cut = contingency_table(data, 'carat', 'price_categorize', 'cut')"
   ]
  },
  {
   "cell_type": "code",
   "execution_count": 89,
   "metadata": {},
   "outputs": [],
   "source": [
    "tables_price_depth = contingency_table(data, 'carat', 'price_categorize', 'depth_categorize')"
   ]
  },
  {
   "cell_type": "markdown",
   "metadata": {},
   "source": [
    "### Considering on contingency tables"
   ]
  },
  {
   "cell_type": "code",
   "execution_count": 90,
   "metadata": {},
   "outputs": [
    {
     "data": {
      "text/html": [
       "<div>\n",
       "<style scoped>\n",
       "    .dataframe tbody tr th:only-of-type {\n",
       "        vertical-align: middle;\n",
       "    }\n",
       "\n",
       "    .dataframe tbody tr th {\n",
       "        vertical-align: top;\n",
       "    }\n",
       "\n",
       "    .dataframe thead th {\n",
       "        text-align: right;\n",
       "    }\n",
       "</style>\n",
       "<table border=\"1\" class=\"dataframe\">\n",
       "  <thead>\n",
       "    <tr style=\"text-align: right;\">\n",
       "      <th>cut</th>\n",
       "      <th>Fair</th>\n",
       "      <th>Good</th>\n",
       "      <th>Ideal</th>\n",
       "      <th>Premium</th>\n",
       "      <th>Very Good</th>\n",
       "    </tr>\n",
       "    <tr>\n",
       "      <th>price_categorize</th>\n",
       "      <th></th>\n",
       "      <th></th>\n",
       "      <th></th>\n",
       "      <th></th>\n",
       "      <th></th>\n",
       "    </tr>\n",
       "  </thead>\n",
       "  <tbody>\n",
       "    <tr>\n",
       "      <th>(0, 2500]</th>\n",
       "      <td>5</td>\n",
       "      <td>21</td>\n",
       "      <td>113</td>\n",
       "      <td>56</td>\n",
       "      <td>59</td>\n",
       "    </tr>\n",
       "    <tr>\n",
       "      <th>(2500, 10000]</th>\n",
       "      <td>6</td>\n",
       "      <td>26</td>\n",
       "      <td>51</td>\n",
       "      <td>59</td>\n",
       "      <td>56</td>\n",
       "    </tr>\n",
       "    <tr>\n",
       "      <th>(10000, 20000]</th>\n",
       "      <td>0</td>\n",
       "      <td>4</td>\n",
       "      <td>20</td>\n",
       "      <td>15</td>\n",
       "      <td>9</td>\n",
       "    </tr>\n",
       "  </tbody>\n",
       "</table>\n",
       "</div>"
      ],
      "text/plain": [
       "cut               Fair  Good  Ideal  Premium  Very Good\n",
       "price_categorize                                       \n",
       "(0, 2500]            5    21    113       56         59\n",
       "(2500, 10000]        6    26     51       59         56\n",
       "(10000, 20000]       0     4     20       15          9"
      ]
     },
     "execution_count": 90,
     "metadata": {},
     "output_type": "execute_result"
    }
   ],
   "source": [
    "tables_price_cut[0]"
   ]
  },
  {
   "cell_type": "code",
   "execution_count": 91,
   "metadata": {},
   "outputs": [
    {
     "data": {
      "text/html": [
       "<div>\n",
       "<style scoped>\n",
       "    .dataframe tbody tr th:only-of-type {\n",
       "        vertical-align: middle;\n",
       "    }\n",
       "\n",
       "    .dataframe tbody tr th {\n",
       "        vertical-align: top;\n",
       "    }\n",
       "\n",
       "    .dataframe thead th {\n",
       "        text-align: right;\n",
       "    }\n",
       "</style>\n",
       "<table border=\"1\" class=\"dataframe\">\n",
       "  <thead>\n",
       "    <tr style=\"text-align: right;\">\n",
       "      <th>depth_categorize</th>\n",
       "      <th>(0.0, 61.0]</th>\n",
       "      <th>(61.0, 63.0]</th>\n",
       "      <th>(63.0, 66.5]</th>\n",
       "    </tr>\n",
       "    <tr>\n",
       "      <th>price_categorize</th>\n",
       "      <th></th>\n",
       "      <th></th>\n",
       "      <th></th>\n",
       "    </tr>\n",
       "  </thead>\n",
       "  <tbody>\n",
       "    <tr>\n",
       "      <th>(0, 2500]</th>\n",
       "      <td>56</td>\n",
       "      <td>169</td>\n",
       "      <td>29</td>\n",
       "    </tr>\n",
       "    <tr>\n",
       "      <th>(2500, 10000]</th>\n",
       "      <td>47</td>\n",
       "      <td>109</td>\n",
       "      <td>42</td>\n",
       "    </tr>\n",
       "    <tr>\n",
       "      <th>(10000, 20000]</th>\n",
       "      <td>15</td>\n",
       "      <td>27</td>\n",
       "      <td>6</td>\n",
       "    </tr>\n",
       "  </tbody>\n",
       "</table>\n",
       "</div>"
      ],
      "text/plain": [
       "depth_categorize  (0.0, 61.0]  (61.0, 63.0]  (63.0, 66.5]\n",
       "price_categorize                                         \n",
       "(0, 2500]                  56           169            29\n",
       "(2500, 10000]              47           109            42\n",
       "(10000, 20000]             15            27             6"
      ]
     },
     "execution_count": 91,
     "metadata": {},
     "output_type": "execute_result"
    }
   ],
   "source": [
    "tables_price_depth[0]"
   ]
  },
  {
   "cell_type": "markdown",
   "metadata": {},
   "source": [
    "### Considering Relative Frequency Tables cut ->carat and cut->depth"
   ]
  },
  {
   "cell_type": "code",
   "execution_count": 92,
   "metadata": {},
   "outputs": [
    {
     "data": {
      "text/html": [
       "<div>\n",
       "<style scoped>\n",
       "    .dataframe tbody tr th:only-of-type {\n",
       "        vertical-align: middle;\n",
       "    }\n",
       "\n",
       "    .dataframe tbody tr th {\n",
       "        vertical-align: top;\n",
       "    }\n",
       "\n",
       "    .dataframe thead th {\n",
       "        text-align: right;\n",
       "    }\n",
       "</style>\n",
       "<table border=\"1\" class=\"dataframe\">\n",
       "  <thead>\n",
       "    <tr style=\"text-align: right;\">\n",
       "      <th>cut</th>\n",
       "      <th>Fair</th>\n",
       "      <th>Good</th>\n",
       "      <th>Ideal</th>\n",
       "      <th>Premium</th>\n",
       "      <th>Very Good</th>\n",
       "    </tr>\n",
       "    <tr>\n",
       "      <th>price_categorize</th>\n",
       "      <th></th>\n",
       "      <th></th>\n",
       "      <th></th>\n",
       "      <th></th>\n",
       "      <th></th>\n",
       "    </tr>\n",
       "  </thead>\n",
       "  <tbody>\n",
       "    <tr>\n",
       "      <th>(0, 2500]</th>\n",
       "      <td>0.010</td>\n",
       "      <td>0.042</td>\n",
       "      <td>0.226</td>\n",
       "      <td>0.112</td>\n",
       "      <td>0.118</td>\n",
       "    </tr>\n",
       "    <tr>\n",
       "      <th>(2500, 10000]</th>\n",
       "      <td>0.012</td>\n",
       "      <td>0.052</td>\n",
       "      <td>0.102</td>\n",
       "      <td>0.118</td>\n",
       "      <td>0.112</td>\n",
       "    </tr>\n",
       "    <tr>\n",
       "      <th>(10000, 20000]</th>\n",
       "      <td>0.000</td>\n",
       "      <td>0.008</td>\n",
       "      <td>0.040</td>\n",
       "      <td>0.030</td>\n",
       "      <td>0.018</td>\n",
       "    </tr>\n",
       "  </tbody>\n",
       "</table>\n",
       "</div>"
      ],
      "text/plain": [
       "cut                Fair   Good  Ideal  Premium  Very Good\n",
       "price_categorize                                         \n",
       "(0, 2500]         0.010  0.042  0.226    0.112      0.118\n",
       "(2500, 10000]     0.012  0.052  0.102    0.118      0.112\n",
       "(10000, 20000]    0.000  0.008  0.040    0.030      0.018"
      ]
     },
     "execution_count": 92,
     "metadata": {},
     "output_type": "execute_result"
    }
   ],
   "source": [
    "tables_price_cut[1]"
   ]
  },
  {
   "cell_type": "code",
   "execution_count": 93,
   "metadata": {},
   "outputs": [
    {
     "data": {
      "text/html": [
       "<div>\n",
       "<style scoped>\n",
       "    .dataframe tbody tr th:only-of-type {\n",
       "        vertical-align: middle;\n",
       "    }\n",
       "\n",
       "    .dataframe tbody tr th {\n",
       "        vertical-align: top;\n",
       "    }\n",
       "\n",
       "    .dataframe thead th {\n",
       "        text-align: right;\n",
       "    }\n",
       "</style>\n",
       "<table border=\"1\" class=\"dataframe\">\n",
       "  <thead>\n",
       "    <tr style=\"text-align: right;\">\n",
       "      <th>depth_categorize</th>\n",
       "      <th>(0.0, 61.0]</th>\n",
       "      <th>(61.0, 63.0]</th>\n",
       "      <th>(63.0, 66.5]</th>\n",
       "    </tr>\n",
       "    <tr>\n",
       "      <th>price_categorize</th>\n",
       "      <th></th>\n",
       "      <th></th>\n",
       "      <th></th>\n",
       "    </tr>\n",
       "  </thead>\n",
       "  <tbody>\n",
       "    <tr>\n",
       "      <th>(0, 2500]</th>\n",
       "      <td>0.112</td>\n",
       "      <td>0.338</td>\n",
       "      <td>0.058</td>\n",
       "    </tr>\n",
       "    <tr>\n",
       "      <th>(2500, 10000]</th>\n",
       "      <td>0.094</td>\n",
       "      <td>0.218</td>\n",
       "      <td>0.084</td>\n",
       "    </tr>\n",
       "    <tr>\n",
       "      <th>(10000, 20000]</th>\n",
       "      <td>0.030</td>\n",
       "      <td>0.054</td>\n",
       "      <td>0.012</td>\n",
       "    </tr>\n",
       "  </tbody>\n",
       "</table>\n",
       "</div>"
      ],
      "text/plain": [
       "depth_categorize  (0.0, 61.0]  (61.0, 63.0]  (63.0, 66.5]\n",
       "price_categorize                                         \n",
       "(0, 2500]               0.112         0.338         0.058\n",
       "(2500, 10000]           0.094         0.218         0.084\n",
       "(10000, 20000]          0.030         0.054         0.012"
      ]
     },
     "execution_count": 93,
     "metadata": {},
     "output_type": "execute_result"
    }
   ],
   "source": [
    "tables_price_depth[1]"
   ]
  },
  {
   "cell_type": "markdown",
   "metadata": {},
   "source": [
    "# Considering Conditional Frequency Table carat -> cut"
   ]
  },
  {
   "cell_type": "code",
   "execution_count": 94,
   "metadata": {},
   "outputs": [
    {
     "data": {
      "text/html": [
       "<div>\n",
       "<style scoped>\n",
       "    .dataframe tbody tr th:only-of-type {\n",
       "        vertical-align: middle;\n",
       "    }\n",
       "\n",
       "    .dataframe tbody tr th {\n",
       "        vertical-align: top;\n",
       "    }\n",
       "\n",
       "    .dataframe thead th {\n",
       "        text-align: right;\n",
       "    }\n",
       "</style>\n",
       "<table border=\"1\" class=\"dataframe\">\n",
       "  <thead>\n",
       "    <tr style=\"text-align: right;\">\n",
       "      <th>cut</th>\n",
       "      <th>Fair</th>\n",
       "      <th>Good</th>\n",
       "      <th>Ideal</th>\n",
       "      <th>Premium</th>\n",
       "      <th>Very Good</th>\n",
       "    </tr>\n",
       "    <tr>\n",
       "      <th>price_categorize</th>\n",
       "      <th></th>\n",
       "      <th></th>\n",
       "      <th></th>\n",
       "      <th></th>\n",
       "      <th></th>\n",
       "    </tr>\n",
       "  </thead>\n",
       "  <tbody>\n",
       "    <tr>\n",
       "      <th>(0, 2500]</th>\n",
       "      <td>0.454545</td>\n",
       "      <td>0.411765</td>\n",
       "      <td>0.614130</td>\n",
       "      <td>0.430769</td>\n",
       "      <td>0.475806</td>\n",
       "    </tr>\n",
       "    <tr>\n",
       "      <th>(2500, 10000]</th>\n",
       "      <td>0.545455</td>\n",
       "      <td>0.509804</td>\n",
       "      <td>0.277174</td>\n",
       "      <td>0.453846</td>\n",
       "      <td>0.451613</td>\n",
       "    </tr>\n",
       "    <tr>\n",
       "      <th>(10000, 20000]</th>\n",
       "      <td>0.000000</td>\n",
       "      <td>0.078431</td>\n",
       "      <td>0.108696</td>\n",
       "      <td>0.115385</td>\n",
       "      <td>0.072581</td>\n",
       "    </tr>\n",
       "  </tbody>\n",
       "</table>\n",
       "</div>"
      ],
      "text/plain": [
       "cut                   Fair      Good     Ideal   Premium  Very Good\n",
       "price_categorize                                                   \n",
       "(0, 2500]         0.454545  0.411765  0.614130  0.430769   0.475806\n",
       "(2500, 10000]     0.545455  0.509804  0.277174  0.453846   0.451613\n",
       "(10000, 20000]    0.000000  0.078431  0.108696  0.115385   0.072581"
      ]
     },
     "execution_count": 94,
     "metadata": {},
     "output_type": "execute_result"
    }
   ],
   "source": [
    "tables_price_cut[2]"
   ]
  },
  {
   "cell_type": "markdown",
   "metadata": {},
   "source": [
    "* P(Fair  $\\rightarrow $ (2500, 10000]) = 0.55 $ \\rightarrow $ Price Fair cut diomonds commonly is from 2500 to 10000\n",
    "* P(Ideal $ \\rightarrow $ (0, 2500]) = 0.61 $ \\rightarrow $ Price ideal cut diomonds commonly is from 0 to 2500. this anomaly can be becouse our data set contain random subset from original data set"
   ]
  },
  {
   "cell_type": "code",
   "execution_count": 95,
   "metadata": {},
   "outputs": [
    {
     "data": {
      "text/html": [
       "<div>\n",
       "<style scoped>\n",
       "    .dataframe tbody tr th:only-of-type {\n",
       "        vertical-align: middle;\n",
       "    }\n",
       "\n",
       "    .dataframe tbody tr th {\n",
       "        vertical-align: top;\n",
       "    }\n",
       "\n",
       "    .dataframe thead th {\n",
       "        text-align: right;\n",
       "    }\n",
       "</style>\n",
       "<table border=\"1\" class=\"dataframe\">\n",
       "  <thead>\n",
       "    <tr style=\"text-align: right;\">\n",
       "      <th>depth_categorize</th>\n",
       "      <th>(0.0, 61.0]</th>\n",
       "      <th>(61.0, 63.0]</th>\n",
       "      <th>(63.0, 66.5]</th>\n",
       "    </tr>\n",
       "    <tr>\n",
       "      <th>price_categorize</th>\n",
       "      <th></th>\n",
       "      <th></th>\n",
       "      <th></th>\n",
       "    </tr>\n",
       "  </thead>\n",
       "  <tbody>\n",
       "    <tr>\n",
       "      <th>(0, 2500]</th>\n",
       "      <td>0.474576</td>\n",
       "      <td>0.554098</td>\n",
       "      <td>0.376623</td>\n",
       "    </tr>\n",
       "    <tr>\n",
       "      <th>(2500, 10000]</th>\n",
       "      <td>0.398305</td>\n",
       "      <td>0.357377</td>\n",
       "      <td>0.545455</td>\n",
       "    </tr>\n",
       "    <tr>\n",
       "      <th>(10000, 20000]</th>\n",
       "      <td>0.127119</td>\n",
       "      <td>0.088525</td>\n",
       "      <td>0.077922</td>\n",
       "    </tr>\n",
       "  </tbody>\n",
       "</table>\n",
       "</div>"
      ],
      "text/plain": [
       "depth_categorize  (0.0, 61.0]  (61.0, 63.0]  (63.0, 66.5]\n",
       "price_categorize                                         \n",
       "(0, 2500]            0.474576      0.554098      0.376623\n",
       "(2500, 10000]        0.398305      0.357377      0.545455\n",
       "(10000, 20000]       0.127119      0.088525      0.077922"
      ]
     },
     "execution_count": 95,
     "metadata": {},
     "output_type": "execute_result"
    }
   ],
   "source": [
    "tables_price_depth[2]"
   ]
  },
  {
   "cell_type": "markdown",
   "metadata": {},
   "source": [
    "* P((61, 63] $ \\rightarrow $ (0, 2500]) = 0.55 $ \\rightarrow $ Price diamond with depth from 61 to 63 is commonly is from 0 to 2500.\n",
    "* P((63, 66.5] $ \\rightarrow $ (2500, 10000] = 0.55 $ \\rightarrow $ Price diamond  with depth from 63 to 66.5 is commonly us from 2500, 10000."
   ]
  },
  {
   "cell_type": "markdown",
   "metadata": {},
   "source": [
    "### Qualet index"
   ]
  },
  {
   "cell_type": "code",
   "execution_count": 96,
   "metadata": {},
   "outputs": [],
   "source": [
    "def quetelet_index(relative_table):\n",
    "    new_table = relative_table.copy()\n",
    "    \n",
    "    # Auxiliary data to compute quetelet index\n",
    "    for col in new_table.columns:\n",
    "        sum_col = new_table[col].sum()\n",
    "        new_table[col] = [sum_col / new_table.shape[0]]*new_table.shape[0]\n",
    "    \n",
    "    # Compute quetelet index\n",
    "    new_table = np.divide(relative_table , new_table) - 1\n",
    "    new_table = new_table.round(2)\n",
    "    \n",
    "    return new_table"
   ]
  },
  {
   "cell_type": "code",
   "execution_count": 97,
   "metadata": {},
   "outputs": [
    {
     "data": {
      "text/html": [
       "<div>\n",
       "<style scoped>\n",
       "    .dataframe tbody tr th:only-of-type {\n",
       "        vertical-align: middle;\n",
       "    }\n",
       "\n",
       "    .dataframe tbody tr th {\n",
       "        vertical-align: top;\n",
       "    }\n",
       "\n",
       "    .dataframe thead th {\n",
       "        text-align: right;\n",
       "    }\n",
       "</style>\n",
       "<table border=\"1\" class=\"dataframe\">\n",
       "  <thead>\n",
       "    <tr style=\"text-align: right;\">\n",
       "      <th>cut</th>\n",
       "      <th>Fair</th>\n",
       "      <th>Good</th>\n",
       "      <th>Ideal</th>\n",
       "      <th>Premium</th>\n",
       "      <th>Very Good</th>\n",
       "    </tr>\n",
       "    <tr>\n",
       "      <th>price_categorize</th>\n",
       "      <th></th>\n",
       "      <th></th>\n",
       "      <th></th>\n",
       "      <th></th>\n",
       "      <th></th>\n",
       "    </tr>\n",
       "  </thead>\n",
       "  <tbody>\n",
       "    <tr>\n",
       "      <th>(0, 2500]</th>\n",
       "      <td>0.36</td>\n",
       "      <td>0.24</td>\n",
       "      <td>0.84</td>\n",
       "      <td>0.29</td>\n",
       "      <td>0.43</td>\n",
       "    </tr>\n",
       "    <tr>\n",
       "      <th>(2500, 10000]</th>\n",
       "      <td>0.64</td>\n",
       "      <td>0.53</td>\n",
       "      <td>-0.17</td>\n",
       "      <td>0.36</td>\n",
       "      <td>0.35</td>\n",
       "    </tr>\n",
       "    <tr>\n",
       "      <th>(10000, 20000]</th>\n",
       "      <td>-1.00</td>\n",
       "      <td>-0.76</td>\n",
       "      <td>-0.67</td>\n",
       "      <td>-0.65</td>\n",
       "      <td>-0.78</td>\n",
       "    </tr>\n",
       "  </tbody>\n",
       "</table>\n",
       "</div>"
      ],
      "text/plain": [
       "cut               Fair  Good  Ideal  Premium  Very Good\n",
       "price_categorize                                       \n",
       "(0, 2500]         0.36  0.24   0.84     0.29       0.43\n",
       "(2500, 10000]     0.64  0.53  -0.17     0.36       0.35\n",
       "(10000, 20000]   -1.00 -0.76  -0.67    -0.65      -0.78"
      ]
     },
     "execution_count": 97,
     "metadata": {},
     "output_type": "execute_result"
    }
   ],
   "source": [
    "quetelet_index_price_cut = quetelet_index(tables_price_cut[1])\n",
    "quetelet_index_price_cut"
   ]
  },
  {
   "cell_type": "code",
   "execution_count": 98,
   "metadata": {},
   "outputs": [
    {
     "data": {
      "text/html": [
       "<div>\n",
       "<style scoped>\n",
       "    .dataframe tbody tr th:only-of-type {\n",
       "        vertical-align: middle;\n",
       "    }\n",
       "\n",
       "    .dataframe tbody tr th {\n",
       "        vertical-align: top;\n",
       "    }\n",
       "\n",
       "    .dataframe thead th {\n",
       "        text-align: right;\n",
       "    }\n",
       "</style>\n",
       "<table border=\"1\" class=\"dataframe\">\n",
       "  <thead>\n",
       "    <tr style=\"text-align: right;\">\n",
       "      <th>depth_categorize</th>\n",
       "      <th>(0.0, 61.0]</th>\n",
       "      <th>(61.0, 63.0]</th>\n",
       "      <th>(63.0, 66.5]</th>\n",
       "    </tr>\n",
       "    <tr>\n",
       "      <th>price_categorize</th>\n",
       "      <th></th>\n",
       "      <th></th>\n",
       "      <th></th>\n",
       "    </tr>\n",
       "  </thead>\n",
       "  <tbody>\n",
       "    <tr>\n",
       "      <th>(0, 2500]</th>\n",
       "      <td>0.42</td>\n",
       "      <td>0.66</td>\n",
       "      <td>0.13</td>\n",
       "    </tr>\n",
       "    <tr>\n",
       "      <th>(2500, 10000]</th>\n",
       "      <td>0.19</td>\n",
       "      <td>0.07</td>\n",
       "      <td>0.64</td>\n",
       "    </tr>\n",
       "    <tr>\n",
       "      <th>(10000, 20000]</th>\n",
       "      <td>-0.62</td>\n",
       "      <td>-0.73</td>\n",
       "      <td>-0.77</td>\n",
       "    </tr>\n",
       "  </tbody>\n",
       "</table>\n",
       "</div>"
      ],
      "text/plain": [
       "depth_categorize  (0.0, 61.0]  (61.0, 63.0]  (63.0, 66.5]\n",
       "price_categorize                                         \n",
       "(0, 2500]                0.42          0.66          0.13\n",
       "(2500, 10000]            0.19          0.07          0.64\n",
       "(10000, 20000]          -0.62         -0.73         -0.77"
      ]
     },
     "execution_count": 98,
     "metadata": {},
     "output_type": "execute_result"
    }
   ],
   "source": [
    "quetelet_index_price_depth = quetelet_index(tables_price_depth[1])\n",
    "quetelet_index_price_depth"
   ]
  },
  {
   "cell_type": "markdown",
   "metadata": {},
   "source": [
    "### chi2"
   ]
  },
  {
   "cell_type": "code",
   "execution_count": 99,
   "metadata": {},
   "outputs": [],
   "source": [
    "def classical_method_chi2(rev_table):\n",
    "    new_table = rev_table.copy()\n",
    "    \n",
    "    # Information to compute chi2 statistic\n",
    "    for col in new_table.columns:\n",
    "        sum_col = new_table[col].sum()\n",
    "        new_table[col] = [sum_col / new_table.shape[0]]*new_table.shape[0]\n",
    "    new_table = (rev_table - new_table)**2 / new_table\n",
    "    \n",
    "    return (new_table, new_table.sum().sum())"
   ]
  },
  {
   "cell_type": "code",
   "execution_count": 100,
   "metadata": {},
   "outputs": [],
   "source": [
    "chi2_price_cut = classical_method_chi2(tables_price_cut[1])"
   ]
  },
  {
   "cell_type": "code",
   "execution_count": 101,
   "metadata": {},
   "outputs": [
    {
     "data": {
      "text/html": [
       "<div>\n",
       "<style scoped>\n",
       "    .dataframe tbody tr th:only-of-type {\n",
       "        vertical-align: middle;\n",
       "    }\n",
       "\n",
       "    .dataframe tbody tr th {\n",
       "        vertical-align: top;\n",
       "    }\n",
       "\n",
       "    .dataframe thead th {\n",
       "        text-align: right;\n",
       "    }\n",
       "</style>\n",
       "<table border=\"1\" class=\"dataframe\">\n",
       "  <thead>\n",
       "    <tr style=\"text-align: right;\">\n",
       "      <th>cut</th>\n",
       "      <th>Fair</th>\n",
       "      <th>Good</th>\n",
       "      <th>Ideal</th>\n",
       "      <th>Premium</th>\n",
       "      <th>Very Good</th>\n",
       "    </tr>\n",
       "    <tr>\n",
       "      <th>price_categorize</th>\n",
       "      <th></th>\n",
       "      <th></th>\n",
       "      <th></th>\n",
       "      <th></th>\n",
       "      <th></th>\n",
       "    </tr>\n",
       "  </thead>\n",
       "  <tbody>\n",
       "    <tr>\n",
       "      <th>(0, 2500]</th>\n",
       "      <td>0.000970</td>\n",
       "      <td>0.001882</td>\n",
       "      <td>0.087047</td>\n",
       "      <td>0.007405</td>\n",
       "      <td>0.015102</td>\n",
       "    </tr>\n",
       "    <tr>\n",
       "      <th>(2500, 10000]</th>\n",
       "      <td>0.002970</td>\n",
       "      <td>0.009529</td>\n",
       "      <td>0.003482</td>\n",
       "      <td>0.011328</td>\n",
       "      <td>0.010409</td>\n",
       "    </tr>\n",
       "    <tr>\n",
       "      <th>(10000, 20000]</th>\n",
       "      <td>0.007333</td>\n",
       "      <td>0.019882</td>\n",
       "      <td>0.055710</td>\n",
       "      <td>0.037051</td>\n",
       "      <td>0.050586</td>\n",
       "    </tr>\n",
       "  </tbody>\n",
       "</table>\n",
       "</div>"
      ],
      "text/plain": [
       "cut                   Fair      Good     Ideal   Premium  Very Good\n",
       "price_categorize                                                   \n",
       "(0, 2500]         0.000970  0.001882  0.087047  0.007405   0.015102\n",
       "(2500, 10000]     0.002970  0.009529  0.003482  0.011328   0.010409\n",
       "(10000, 20000]    0.007333  0.019882  0.055710  0.037051   0.050586"
      ]
     },
     "execution_count": 101,
     "metadata": {},
     "output_type": "execute_result"
    }
   ],
   "source": [
    "chi2_price_cut[0]"
   ]
  },
  {
   "cell_type": "code",
   "execution_count": 102,
   "metadata": {},
   "outputs": [
    {
     "name": "stdout",
     "output_type": "stream",
     "text": [
      "Sum value in table cut -> price:  0.3207\n"
     ]
    }
   ],
   "source": [
    "print('Sum value in table cut -> price: ', round(chi2_price_cut[1], 4))"
   ]
  },
  {
   "cell_type": "markdown",
   "metadata": {},
   "source": [
    "There are not value greater than 0.1"
   ]
  },
  {
   "cell_type": "code",
   "execution_count": 103,
   "metadata": {},
   "outputs": [],
   "source": [
    "chi2_price_depth = classical_method_chi2(tables_price_depth[1])"
   ]
  },
  {
   "cell_type": "code",
   "execution_count": 104,
   "metadata": {},
   "outputs": [
    {
     "data": {
      "text/html": [
       "<div>\n",
       "<style scoped>\n",
       "    .dataframe tbody tr th:only-of-type {\n",
       "        vertical-align: middle;\n",
       "    }\n",
       "\n",
       "    .dataframe tbody tr th {\n",
       "        vertical-align: top;\n",
       "    }\n",
       "\n",
       "    .dataframe thead th {\n",
       "        text-align: right;\n",
       "    }\n",
       "</style>\n",
       "<table border=\"1\" class=\"dataframe\">\n",
       "  <thead>\n",
       "    <tr style=\"text-align: right;\">\n",
       "      <th>depth_categorize</th>\n",
       "      <th>(0.0, 61.0]</th>\n",
       "      <th>(61.0, 63.0]</th>\n",
       "      <th>(63.0, 66.5]</th>\n",
       "    </tr>\n",
       "    <tr>\n",
       "      <th>price_categorize</th>\n",
       "      <th></th>\n",
       "      <th></th>\n",
       "      <th></th>\n",
       "    </tr>\n",
       "  </thead>\n",
       "  <tbody>\n",
       "    <tr>\n",
       "      <th>(0, 2500]</th>\n",
       "      <td>0.014124</td>\n",
       "      <td>0.089189</td>\n",
       "      <td>0.000866</td>\n",
       "    </tr>\n",
       "    <tr>\n",
       "      <th>(2500, 10000]</th>\n",
       "      <td>0.002989</td>\n",
       "      <td>0.001058</td>\n",
       "      <td>0.020788</td>\n",
       "    </tr>\n",
       "    <tr>\n",
       "      <th>(10000, 20000]</th>\n",
       "      <td>0.030107</td>\n",
       "      <td>0.109674</td>\n",
       "      <td>0.030139</td>\n",
       "    </tr>\n",
       "  </tbody>\n",
       "</table>\n",
       "</div>"
      ],
      "text/plain": [
       "depth_categorize  (0.0, 61.0]  (61.0, 63.0]  (63.0, 66.5]\n",
       "price_categorize                                         \n",
       "(0, 2500]            0.014124      0.089189      0.000866\n",
       "(2500, 10000]        0.002989      0.001058      0.020788\n",
       "(10000, 20000]       0.030107      0.109674      0.030139"
      ]
     },
     "execution_count": 104,
     "metadata": {},
     "output_type": "execute_result"
    }
   ],
   "source": [
    "chi2_price_depth[0]"
   ]
  },
  {
   "cell_type": "code",
   "execution_count": 105,
   "metadata": {},
   "outputs": [
    {
     "name": "stdout",
     "output_type": "stream",
     "text": [
      "Sum value in table depth -> price:  0.2989\n"
     ]
    }
   ],
   "source": [
    "print('Sum value in table depth -> price: ', round(chi2_price_depth[1], 4))"
   ]
  },
  {
   "cell_type": "markdown",
   "metadata": {},
   "source": [
    "There are value in table greater than 0.1. It is (61.0, 63.0] $ \\rightarrow $ (10000, 20000]."
   ]
  },
  {
   "cell_type": "markdown",
   "metadata": {},
   "source": [
    "### average Quetelet"
   ]
  },
  {
   "cell_type": "code",
   "execution_count": 106,
   "metadata": {},
   "outputs": [],
   "source": [
    "def averange_quetelet_index(rev_table, index_q):\n",
    "    # Trick to compute av quetelet index\n",
    "    avg = rev_table * index_q\n",
    "    return avg"
   ]
  },
  {
   "cell_type": "code",
   "execution_count": 107,
   "metadata": {},
   "outputs": [
    {
     "data": {
      "text/html": [
       "<div>\n",
       "<style scoped>\n",
       "    .dataframe tbody tr th:only-of-type {\n",
       "        vertical-align: middle;\n",
       "    }\n",
       "\n",
       "    .dataframe tbody tr th {\n",
       "        vertical-align: top;\n",
       "    }\n",
       "\n",
       "    .dataframe thead th {\n",
       "        text-align: right;\n",
       "    }\n",
       "</style>\n",
       "<table border=\"1\" class=\"dataframe\">\n",
       "  <thead>\n",
       "    <tr style=\"text-align: right;\">\n",
       "      <th>cut</th>\n",
       "      <th>Fair</th>\n",
       "      <th>Good</th>\n",
       "      <th>Ideal</th>\n",
       "      <th>Premium</th>\n",
       "      <th>Very Good</th>\n",
       "    </tr>\n",
       "    <tr>\n",
       "      <th>price_categorize</th>\n",
       "      <th></th>\n",
       "      <th></th>\n",
       "      <th></th>\n",
       "      <th></th>\n",
       "      <th></th>\n",
       "    </tr>\n",
       "  </thead>\n",
       "  <tbody>\n",
       "    <tr>\n",
       "      <th>(0, 2500]</th>\n",
       "      <td>0.00360</td>\n",
       "      <td>0.01008</td>\n",
       "      <td>0.18984</td>\n",
       "      <td>0.03248</td>\n",
       "      <td>0.05074</td>\n",
       "    </tr>\n",
       "    <tr>\n",
       "      <th>(2500, 10000]</th>\n",
       "      <td>0.00768</td>\n",
       "      <td>0.02756</td>\n",
       "      <td>-0.01734</td>\n",
       "      <td>0.04248</td>\n",
       "      <td>0.03920</td>\n",
       "    </tr>\n",
       "    <tr>\n",
       "      <th>(10000, 20000]</th>\n",
       "      <td>-0.00000</td>\n",
       "      <td>-0.00608</td>\n",
       "      <td>-0.02680</td>\n",
       "      <td>-0.01950</td>\n",
       "      <td>-0.01404</td>\n",
       "    </tr>\n",
       "  </tbody>\n",
       "</table>\n",
       "</div>"
      ],
      "text/plain": [
       "cut                  Fair     Good    Ideal  Premium  Very Good\n",
       "price_categorize                                               \n",
       "(0, 2500]         0.00360  0.01008  0.18984  0.03248    0.05074\n",
       "(2500, 10000]     0.00768  0.02756 -0.01734  0.04248    0.03920\n",
       "(10000, 20000]   -0.00000 -0.00608 -0.02680 -0.01950   -0.01404"
      ]
     },
     "execution_count": 107,
     "metadata": {},
     "output_type": "execute_result"
    }
   ],
   "source": [
    "averange_quetelet_price_cut = averange_quetelet_index(tables_price_cut[1], quetelet_index_price_cut)\n",
    "averange_quetelet_price_cut"
   ]
  },
  {
   "cell_type": "code",
   "execution_count": 108,
   "metadata": {},
   "outputs": [
    {
     "name": "stdout",
     "output_type": "stream",
     "text": [
      "Sum value in table cut -> price : 0.31989999999999996\n"
     ]
    }
   ],
   "source": [
    "print('Sum value in table cut -> price :', averange_quetelet_price_cut.sum().sum())"
   ]
  },
  {
   "cell_type": "markdown",
   "metadata": {},
   "source": [
    "The highlighted entries are those most contributing to the change:\n",
    "* ideal -> (0, 2500] (20 %)"
   ]
  },
  {
   "cell_type": "code",
   "execution_count": 55,
   "metadata": {},
   "outputs": [
    {
     "data": {
      "text/html": [
       "<div>\n",
       "<style scoped>\n",
       "    .dataframe tbody tr th:only-of-type {\n",
       "        vertical-align: middle;\n",
       "    }\n",
       "\n",
       "    .dataframe tbody tr th {\n",
       "        vertical-align: top;\n",
       "    }\n",
       "\n",
       "    .dataframe thead th {\n",
       "        text-align: right;\n",
       "    }\n",
       "</style>\n",
       "<table border=\"1\" class=\"dataframe\">\n",
       "  <thead>\n",
       "    <tr style=\"text-align: right;\">\n",
       "      <th>depth_categorize</th>\n",
       "      <th>(0.0, 61.0]</th>\n",
       "      <th>(61.0, 63.0]</th>\n",
       "      <th>(63.0, 66.5]</th>\n",
       "    </tr>\n",
       "    <tr>\n",
       "      <th>price_categorize</th>\n",
       "      <th></th>\n",
       "      <th></th>\n",
       "      <th></th>\n",
       "    </tr>\n",
       "  </thead>\n",
       "  <tbody>\n",
       "    <tr>\n",
       "      <th>(0, 2500]</th>\n",
       "      <td>0.04704</td>\n",
       "      <td>0.22308</td>\n",
       "      <td>0.00754</td>\n",
       "    </tr>\n",
       "    <tr>\n",
       "      <th>(2500, 10000]</th>\n",
       "      <td>0.01786</td>\n",
       "      <td>0.01526</td>\n",
       "      <td>0.05376</td>\n",
       "    </tr>\n",
       "    <tr>\n",
       "      <th>(10000, 20000]</th>\n",
       "      <td>-0.01860</td>\n",
       "      <td>-0.03942</td>\n",
       "      <td>-0.00924</td>\n",
       "    </tr>\n",
       "  </tbody>\n",
       "</table>\n",
       "</div>"
      ],
      "text/plain": [
       "depth_categorize  (0.0, 61.0]  (61.0, 63.0]  (63.0, 66.5]\n",
       "price_categorize                                         \n",
       "(0, 2500]             0.04704       0.22308       0.00754\n",
       "(2500, 10000]         0.01786       0.01526       0.05376\n",
       "(10000, 20000]       -0.01860      -0.03942      -0.00924"
      ]
     },
     "execution_count": 55,
     "metadata": {},
     "output_type": "execute_result"
    }
   ],
   "source": [
    "averange_quetelet_price_depth = averange_quetelet_index(tables_price_depth[1], quetelet_index_price_depth)\n",
    "averange_quetelet_price_depth"
   ]
  },
  {
   "cell_type": "code",
   "execution_count": 56,
   "metadata": {},
   "outputs": [
    {
     "name": "stdout",
     "output_type": "stream",
     "text": [
      "Sum value in table depth -> price : 0.29728000000000004\n"
     ]
    }
   ],
   "source": [
    "print('Sum value in table depth -> price :', averange_quetelet_price_depth.sum().sum())"
   ]
  },
  {
   "cell_type": "markdown",
   "metadata": {},
   "source": [
    "The highlighted entries are those most contributing to the change:\n",
    "* (61, 63] -> (0, 2500] (23 %)"
   ]
  },
  {
   "cell_type": "markdown",
   "metadata": {},
   "source": [
    "# Counting numbers of observations would suffice to see the features as associated at 95% confidence level; 99% confidence level"
   ]
  },
  {
   "cell_type": "markdown",
   "metadata": {},
   "source": [
    "* deegre freedom of depth -> price table = 4*2 = 8\n",
    "* deegre freedom of cut -> price table = 2*2 = 4"
   ]
  },
  {
   "cell_type": "markdown",
   "metadata": {},
   "source": [
    "Find t-value for 95% probability and 99% probability for depth -> price and cut -> price tables using scipy."
   ]
  },
  {
   "cell_type": "code",
   "execution_count": 492,
   "metadata": {},
   "outputs": [
    {
     "name": "stdout",
     "output_type": "stream",
     "text": [
      "t_value depth -> price for 95% probability : 15.51\n",
      "t_value depth -> price for 99% probability : 20.09\n",
      "t_value cut -> price for 95 probability : 9.49\n",
      "t_value cut -> price for 99 probability : 13.28\n"
     ]
    }
   ],
   "source": [
    "from scipy.stats import chi2\n",
    "print('t_value depth -> price for 95% probability :', round(chi2(8).ppf(0.95), 2))\n",
    "print('t_value depth -> price for 99% probability :', round(chi2(8).ppf(0.99), 2))\n",
    "print('t_value cut -> price for 95 probability :', round(chi2(4).ppf(0.95), 2))\n",
    "print('t_value cut -> price for 99 probability :', round(chi2(4).ppf(0.99), 2))"
   ]
  },
  {
   "cell_type": "markdown",
   "metadata": {},
   "source": [
    "* n*t > $ \\chi  ^ 2$\n",
    "* n > $ \\chi  ^ 2 $ / t\n",
    "* $ n_{depth -> price, 0.95} > \\chi_{0.95} ^ 2 / t_{0.95} = 15.51/0.2989 > 52$ That means that at any N>52 the hypothesis of statistical independence should be rejected at 95% confidence level.\n",
    "* $ n_{depth -> price, 0.99} > \\chi_{0.99} ^ 2 / t_{0.99} = 15.51/0.2989 > 68$ That means that at any N>68 the hypothesis of statistical independence should be rejected at 99% confidence level.\n",
    "* $ n_{cut -> price, 0.95} > \\chi_{0.95} ^ 2 / t_{0.95} = 9.49/0.3207 > 30$ That means that at any N>30 the hypothesis of statistical independence should be rejected at 95% confidence level.\n",
    "* $ n_{cut -> price, 0.95} > \\chi_{0.95} ^ 2 / t_{0.95} = 13.28/0.3207 > 42$ That means that at any N>42 the hypothesis of statistical independence should be rejected at 99% confidence level."
   ]
  },
  {
   "cell_type": "markdown",
   "metadata": {},
   "source": [
    "# Visualization"
   ]
  },
  {
   "cell_type": "code",
   "execution_count": 495,
   "metadata": {},
   "outputs": [
    {
     "data": {
      "image/png": "[encoded data removed]",
      "text/plain": [
       "<Figure size 432x288 with 2 Axes>"
      ]
     },
     "metadata": {
      "needs_background": "light"
     },
     "output_type": "display_data"
    }
   ],
   "source": [
    "plt.imshow(qualet_index_price_cut, cmap='hot', \n",
    "           interpolation='nearest')\n",
    "plt.colorbar()\n",
    "plt.show()"
   ]
  },
  {
   "cell_type": "code",
   "execution_count": 496,
   "metadata": {},
   "outputs": [
    {
     "data": {
      "image/png": "[encoded data removed]",
      "text/plain": [
       "<Figure size 432x288 with 2 Axes>"
      ]
     },
     "metadata": {
      "needs_background": "light"
     },
     "output_type": "display_data"
    }
   ],
   "source": [
    "plt.imshow(qualet_index_price_depth, cmap='hot', \n",
    "           interpolation='nearest')\n",
    "plt.colorbar()\n",
    "plt.show()"
   ]
  },
  {
   "cell_type": "code",
   "execution_count": null,
   "metadata": {},
   "outputs": [],
   "source": []
  },
  {
   "cell_type": "code",
   "execution_count": null,
   "metadata": {},
   "outputs": [],
   "source": []
  }
 ],
 "metadata": {
  "kernelspec": {
   "display_name": "Python 3",
   "language": "python",
   "name": "python3"
  },
  "language_info": {
   "codemirror_mode": {
    "name": "ipython",
    "version": 3
   },
   "file_extension": ".py",
   "mimetype": "text/x-python",
   "name": "python",
   "nbconvert_exporter": "python",
   "pygments_lexer": "ipython3",
   "version": "3.8.3"
  }
 },
 "nbformat": 4,
 "nbformat_minor": 2
}
