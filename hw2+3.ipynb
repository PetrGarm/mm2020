{
 "cells": [
  {
   "cell_type": "markdown",
   "metadata": {},
   "source": [
    "# HW 2"
   ]
  },
  {
   "cell_type": "code",
   "execution_count": 1,
   "metadata": {},
   "outputs": [],
   "source": [
    "import numpy as np\n",
    "import pandas as pd\n",
    "\n",
    "from sklearn.cluster import KMeans\n",
    "\n",
    "import matplotlib.pyplot as plt\n",
    "%matplotlib inline"
   ]
  },
  {
   "cell_type": "code",
   "execution_count": 2,
   "metadata": {},
   "outputs": [
    {
     "data": {
      "text/html": [
       "<div>\n",
       "<style scoped>\n",
       "    .dataframe tbody tr th:only-of-type {\n",
       "        vertical-align: middle;\n",
       "    }\n",
       "\n",
       "    .dataframe tbody tr th {\n",
       "        vertical-align: top;\n",
       "    }\n",
       "\n",
       "    .dataframe thead th {\n",
       "        text-align: right;\n",
       "    }\n",
       "</style>\n",
       "<table border=\"1\" class=\"dataframe\">\n",
       "  <thead>\n",
       "    <tr style=\"text-align: right;\">\n",
       "      <th></th>\n",
       "      <th>carat</th>\n",
       "      <th>cut</th>\n",
       "      <th>depth</th>\n",
       "      <th>price</th>\n",
       "      <th>x</th>\n",
       "      <th>y</th>\n",
       "      <th>z</th>\n",
       "    </tr>\n",
       "  </thead>\n",
       "  <tbody>\n",
       "    <tr>\n",
       "      <th>0</th>\n",
       "      <td>1.00</td>\n",
       "      <td>Very Good</td>\n",
       "      <td>63.5</td>\n",
       "      <td>3858</td>\n",
       "      <td>6.37</td>\n",
       "      <td>6.32</td>\n",
       "      <td>4.03</td>\n",
       "    </tr>\n",
       "    <tr>\n",
       "      <th>1</th>\n",
       "      <td>1.02</td>\n",
       "      <td>Very Good</td>\n",
       "      <td>61.6</td>\n",
       "      <td>4291</td>\n",
       "      <td>6.46</td>\n",
       "      <td>6.47</td>\n",
       "      <td>3.98</td>\n",
       "    </tr>\n",
       "    <tr>\n",
       "      <th>2</th>\n",
       "      <td>1.25</td>\n",
       "      <td>Premium</td>\n",
       "      <td>62.0</td>\n",
       "      <td>8099</td>\n",
       "      <td>6.88</td>\n",
       "      <td>6.84</td>\n",
       "      <td>4.25</td>\n",
       "    </tr>\n",
       "    <tr>\n",
       "      <th>3</th>\n",
       "      <td>0.80</td>\n",
       "      <td>Very Good</td>\n",
       "      <td>61.9</td>\n",
       "      <td>3737</td>\n",
       "      <td>5.93</td>\n",
       "      <td>5.96</td>\n",
       "      <td>3.69</td>\n",
       "    </tr>\n",
       "    <tr>\n",
       "      <th>4</th>\n",
       "      <td>0.91</td>\n",
       "      <td>Good</td>\n",
       "      <td>59.9</td>\n",
       "      <td>4309</td>\n",
       "      <td>6.18</td>\n",
       "      <td>6.24</td>\n",
       "      <td>3.72</td>\n",
       "    </tr>\n",
       "  </tbody>\n",
       "</table>\n",
       "</div>"
      ],
      "text/plain": [
       "   carat        cut  depth  price     x     y     z\n",
       "0   1.00  Very Good   63.5   3858  6.37  6.32  4.03\n",
       "1   1.02  Very Good   61.6   4291  6.46  6.47  3.98\n",
       "2   1.25    Premium   62.0   8099  6.88  6.84  4.25\n",
       "3   0.80  Very Good   61.9   3737  5.93  5.96  3.69\n",
       "4   0.91       Good   59.9   4309  6.18  6.24  3.72"
      ]
     },
     "execution_count": 2,
     "metadata": {},
     "output_type": "execute_result"
    }
   ],
   "source": [
    "df = pd.read_csv('diamonds_500.csv')\n",
    "df.head()"
   ]
  },
  {
   "cell_type": "code",
   "execution_count": 3,
   "metadata": {},
   "outputs": [],
   "source": [
    "feature_kmeans = ['carat', 'depth', 'price']"
   ]
  },
  {
   "cell_type": "code",
   "execution_count": 32,
   "metadata": {},
   "outputs": [],
   "source": [
    "def run_kmeans(data, n_clusters, n_init=10, init='random'):\n",
    "    \"\"\"\n",
    "    data: pd.DataFrame object, dataset to run kmeans on\n",
    "    n_clusters: number of clusters to run kmeans algorithm\n",
    "    n_init: number of different initializations, sklearn.cluster.kmeans will return best according to initeria\n",
    "    init: type of initialization, \"random\" for default\n",
    "    \n",
    "    returns: best kmeans model with specified parameter,\n",
    "            cluster means for each feature,\n",
    "            grand mean for each feature\n",
    "    \"\"\"\n",
    "    data_norm = (data.values - np.mean(data.values, axis=0)) / np.std(data.values, axis=0)\n",
    "    \n",
    "    # Specify parameters required in the task, where \n",
    "    # n_init - Number of time the k-means algorithm will be run with different centroid seeds\n",
    "    kmeans = KMeans(n_clusters=n_clusters, n_init=n_init, init=init, )\n",
    "    kmeans.fit(data_norm)\n",
    "    \n",
    "    # Store clusters for each dataset item\n",
    "    labels = kmeans.labels_\n",
    "    \n",
    "    cluster_means = []\n",
    "    \n",
    "    # Compute cluster mean for each feature\n",
    "    for label in sorted(np.unique(labels)):\n",
    "        cluster_means.append(np.mean(data[labels == label], axis=0))\n",
    "    \n",
    "    # Compute grand mean for each feature\n",
    "    grand_means = np.mean(data, axis=0)\n",
    "    return kmeans, np.array(cluster_means), np.array(grand_means)"
   ]
  },
  {
   "cell_type": "code",
   "execution_count": 42,
   "metadata": {},
   "outputs": [],
   "source": [
    "best_kmeans_5, cluster_means_5, grand_means_5 = run_kmeans(df[feature_kmeans], n_clusters=5)\n",
    "best_kmeans_9, cluster_means_9, grand_means_9 = run_kmeans(df[feature_kmeans], n_clusters=9)"
   ]
  },
  {
   "cell_type": "code",
   "execution_count": 58,
   "metadata": {},
   "outputs": [],
   "source": [
    "result_5 = pd.DataFrame(100 * (cluster_means_5 - grand_means_5) / grand_means_5, columns=feature_kmeans,\n",
    "                       index=[f'Cluster #{label + 1}' for label in [0, 3, 1, 2, 4]])\n",
    "result_9 = pd.DataFrame(100 * (cluster_means_9 - grand_means_9) / grand_means_9, columns=feature_kmeans,\n",
    "                       index=[f'Cluster #{label + 1}' for label in range(9)])"
   ]
  },
  {
   "cell_type": "code",
   "execution_count": 60,
   "metadata": {},
   "outputs": [
    {
     "data": {
      "text/html": [
       "<div>\n",
       "<style scoped>\n",
       "    .dataframe tbody tr th:only-of-type {\n",
       "        vertical-align: middle;\n",
       "    }\n",
       "\n",
       "    .dataframe tbody tr th {\n",
       "        vertical-align: top;\n",
       "    }\n",
       "\n",
       "    .dataframe thead th {\n",
       "        text-align: right;\n",
       "    }\n",
       "</style>\n",
       "<table border=\"1\" class=\"dataframe\">\n",
       "  <thead>\n",
       "    <tr style=\"text-align: right;\">\n",
       "      <th></th>\n",
       "      <th>carat</th>\n",
       "      <th>depth</th>\n",
       "      <th>price</th>\n",
       "    </tr>\n",
       "  </thead>\n",
       "  <tbody>\n",
       "    <tr>\n",
       "      <th>Cluster #1</th>\n",
       "      <td>122.372182</td>\n",
       "      <td>-0.253751</td>\n",
       "      <td>262.911133</td>\n",
       "    </tr>\n",
       "    <tr>\n",
       "      <th>Cluster #2</th>\n",
       "      <td>4.452918</td>\n",
       "      <td>3.125289</td>\n",
       "      <td>-14.311287</td>\n",
       "    </tr>\n",
       "    <tr>\n",
       "      <th>Cluster #3</th>\n",
       "      <td>46.159041</td>\n",
       "      <td>-0.080906</td>\n",
       "      <td>62.383656</td>\n",
       "    </tr>\n",
       "    <tr>\n",
       "      <th>Cluster #4</th>\n",
       "      <td>-41.867495</td>\n",
       "      <td>0.167032</td>\n",
       "      <td>-65.823664</td>\n",
       "    </tr>\n",
       "    <tr>\n",
       "      <th>Cluster #5</th>\n",
       "      <td>-17.778810</td>\n",
       "      <td>-3.416819</td>\n",
       "      <td>-36.535220</td>\n",
       "    </tr>\n",
       "  </tbody>\n",
       "</table>\n",
       "</div>"
      ],
      "text/plain": [
       "                 carat     depth       price\n",
       "Cluster #1  122.372182 -0.253751  262.911133\n",
       "Cluster #2    4.452918  3.125289  -14.311287\n",
       "Cluster #3   46.159041 -0.080906   62.383656\n",
       "Cluster #4  -41.867495  0.167032  -65.823664\n",
       "Cluster #5  -17.778810 -3.416819  -36.535220"
      ]
     },
     "execution_count": 60,
     "metadata": {},
     "output_type": "execute_result"
    }
   ],
   "source": [
    "result_5.sort_index()"
   ]
  },
  {
   "cell_type": "code",
   "execution_count": 61,
   "metadata": {},
   "outputs": [
    {
     "data": {
      "text/html": [
       "<div>\n",
       "<style scoped>\n",
       "    .dataframe tbody tr th:only-of-type {\n",
       "        vertical-align: middle;\n",
       "    }\n",
       "\n",
       "    .dataframe tbody tr th {\n",
       "        vertical-align: top;\n",
       "    }\n",
       "\n",
       "    .dataframe thead th {\n",
       "        text-align: right;\n",
       "    }\n",
       "</style>\n",
       "<table border=\"1\" class=\"dataframe\">\n",
       "  <thead>\n",
       "    <tr style=\"text-align: right;\">\n",
       "      <th></th>\n",
       "      <th>carat</th>\n",
       "      <th>depth</th>\n",
       "      <th>price</th>\n",
       "    </tr>\n",
       "  </thead>\n",
       "  <tbody>\n",
       "    <tr>\n",
       "      <th>Cluster #1</th>\n",
       "      <td>-43.819737</td>\n",
       "      <td>-2.968760</td>\n",
       "      <td>-68.913291</td>\n",
       "    </tr>\n",
       "    <tr>\n",
       "      <th>Cluster #2</th>\n",
       "      <td>-38.480251</td>\n",
       "      <td>-0.340480</td>\n",
       "      <td>-62.536435</td>\n",
       "    </tr>\n",
       "    <tr>\n",
       "      <th>Cluster #3</th>\n",
       "      <td>29.918453</td>\n",
       "      <td>-3.757079</td>\n",
       "      <td>30.166037</td>\n",
       "    </tr>\n",
       "    <tr>\n",
       "      <th>Cluster #4</th>\n",
       "      <td>35.729453</td>\n",
       "      <td>0.027349</td>\n",
       "      <td>45.054750</td>\n",
       "    </tr>\n",
       "    <tr>\n",
       "      <th>Cluster #5</th>\n",
       "      <td>20.381719</td>\n",
       "      <td>2.480085</td>\n",
       "      <td>10.038475</td>\n",
       "    </tr>\n",
       "    <tr>\n",
       "      <th>Cluster #6</th>\n",
       "      <td>-45.431586</td>\n",
       "      <td>1.596148</td>\n",
       "      <td>-69.816962</td>\n",
       "    </tr>\n",
       "    <tr>\n",
       "      <th>Cluster #7</th>\n",
       "      <td>91.109888</td>\n",
       "      <td>0.643204</td>\n",
       "      <td>195.182556</td>\n",
       "    </tr>\n",
       "    <tr>\n",
       "      <th>Cluster #8</th>\n",
       "      <td>151.811458</td>\n",
       "      <td>-1.541070</td>\n",
       "      <td>280.229730</td>\n",
       "    </tr>\n",
       "    <tr>\n",
       "      <th>Cluster #9</th>\n",
       "      <td>-1.818546</td>\n",
       "      <td>6.116505</td>\n",
       "      <td>-34.115582</td>\n",
       "    </tr>\n",
       "  </tbody>\n",
       "</table>\n",
       "</div>"
      ],
      "text/plain": [
       "                 carat     depth       price\n",
       "Cluster #1  -43.819737 -2.968760  -68.913291\n",
       "Cluster #2  -38.480251 -0.340480  -62.536435\n",
       "Cluster #3   29.918453 -3.757079   30.166037\n",
       "Cluster #4   35.729453  0.027349   45.054750\n",
       "Cluster #5   20.381719  2.480085   10.038475\n",
       "Cluster #6  -45.431586  1.596148  -69.816962\n",
       "Cluster #7   91.109888  0.643204  195.182556\n",
       "Cluster #8  151.811458 -1.541070  280.229730\n",
       "Cluster #9   -1.818546  6.116505  -34.115582"
      ]
     },
     "execution_count": 61,
     "metadata": {},
     "output_type": "execute_result"
    }
   ],
   "source": [
    "result_9"
   ]
  },
  {
   "cell_type": "markdown",
   "metadata": {},
   "source": [
    "# HW 3"
   ]
  },
  {
   "cell_type": "code",
   "execution_count": 62,
   "metadata": {},
   "outputs": [],
   "source": [
    "clusters = best_kmeans_5.labels_"
   ]
  },
  {
   "cell_type": "code",
   "execution_count": 63,
   "metadata": {},
   "outputs": [],
   "source": [
    "df[\"cluster\"] = clusters"
   ]
  },
  {
   "cell_type": "code",
   "execution_count": 64,
   "metadata": {},
   "outputs": [
    {
     "data": {
      "text/html": [
       "<div>\n",
       "<style scoped>\n",
       "    .dataframe tbody tr th:only-of-type {\n",
       "        vertical-align: middle;\n",
       "    }\n",
       "\n",
       "    .dataframe tbody tr th {\n",
       "        vertical-align: top;\n",
       "    }\n",
       "\n",
       "    .dataframe thead th {\n",
       "        text-align: right;\n",
       "    }\n",
       "</style>\n",
       "<table border=\"1\" class=\"dataframe\">\n",
       "  <thead>\n",
       "    <tr style=\"text-align: right;\">\n",
       "      <th></th>\n",
       "      <th>carat</th>\n",
       "      <th>cut</th>\n",
       "      <th>depth</th>\n",
       "      <th>price</th>\n",
       "      <th>x</th>\n",
       "      <th>y</th>\n",
       "      <th>z</th>\n",
       "      <th>cluster</th>\n",
       "    </tr>\n",
       "  </thead>\n",
       "  <tbody>\n",
       "    <tr>\n",
       "      <th>0</th>\n",
       "      <td>1.00</td>\n",
       "      <td>Very Good</td>\n",
       "      <td>63.5</td>\n",
       "      <td>3858</td>\n",
       "      <td>6.37</td>\n",
       "      <td>6.32</td>\n",
       "      <td>4.03</td>\n",
       "      <td>2</td>\n",
       "    </tr>\n",
       "    <tr>\n",
       "      <th>1</th>\n",
       "      <td>1.02</td>\n",
       "      <td>Very Good</td>\n",
       "      <td>61.6</td>\n",
       "      <td>4291</td>\n",
       "      <td>6.46</td>\n",
       "      <td>6.47</td>\n",
       "      <td>3.98</td>\n",
       "      <td>3</td>\n",
       "    </tr>\n",
       "    <tr>\n",
       "      <th>2</th>\n",
       "      <td>1.25</td>\n",
       "      <td>Premium</td>\n",
       "      <td>62.0</td>\n",
       "      <td>8099</td>\n",
       "      <td>6.88</td>\n",
       "      <td>6.84</td>\n",
       "      <td>4.25</td>\n",
       "      <td>3</td>\n",
       "    </tr>\n",
       "    <tr>\n",
       "      <th>3</th>\n",
       "      <td>0.80</td>\n",
       "      <td>Very Good</td>\n",
       "      <td>61.9</td>\n",
       "      <td>3737</td>\n",
       "      <td>5.93</td>\n",
       "      <td>5.96</td>\n",
       "      <td>3.69</td>\n",
       "      <td>1</td>\n",
       "    </tr>\n",
       "    <tr>\n",
       "      <th>4</th>\n",
       "      <td>0.91</td>\n",
       "      <td>Good</td>\n",
       "      <td>59.9</td>\n",
       "      <td>4309</td>\n",
       "      <td>6.18</td>\n",
       "      <td>6.24</td>\n",
       "      <td>3.72</td>\n",
       "      <td>4</td>\n",
       "    </tr>\n",
       "  </tbody>\n",
       "</table>\n",
       "</div>"
      ],
      "text/plain": [
       "   carat        cut  depth  price     x     y     z  cluster\n",
       "0   1.00  Very Good   63.5   3858  6.37  6.32  4.03        2\n",
       "1   1.02  Very Good   61.6   4291  6.46  6.47  3.98        3\n",
       "2   1.25    Premium   62.0   8099  6.88  6.84  4.25        3\n",
       "3   0.80  Very Good   61.9   3737  5.93  5.96  3.69        1\n",
       "4   0.91       Good   59.9   4309  6.18  6.24  3.72        4"
      ]
     },
     "execution_count": 64,
     "metadata": {},
     "output_type": "execute_result"
    }
   ],
   "source": [
    "df.head()"
   ]
  },
  {
   "cell_type": "code",
   "execution_count": 65,
   "metadata": {},
   "outputs": [],
   "source": [
    "price_feature = df['price'].values"
   ]
  },
  {
   "cell_type": "code",
   "execution_count": 66,
   "metadata": {},
   "outputs": [],
   "source": [
    "def get_bootstrap_CI_for_mean(vector, alpha=0.95, K=5000, N=150):\n",
    "    \"\"\"\n",
    "    vector: array to calcultat bootstrap CI for\n",
    "    alpha: such that significance level 1 - alpha\n",
    "    K: number of bootstrap iteration\n",
    "    N: number of items for each iterations\n",
    "    \n",
    "    returns:\n",
    "    non_pivotal_CI: tuple of left_bound and right_bound\n",
    "    pivotal_CI: tuple of left_bound and right_bound\n",
    "    means: vector of mean for each iteration\n",
    "    \"\"\"\n",
    "    means = []\n",
    "    # Compute bootstrap mean\n",
    "    for _ in range(K):\n",
    "        means.append(np.mean(np.random.choice(vector, size=N)))\n",
    "    \n",
    "    # Compute pivotal CI\n",
    "    mean_ = np.mean(means)\n",
    "    std_ = np.std(means)\n",
    "    \n",
    "    # Assuming Gaussian distribution of means vector\n",
    "    left_boundary_pivotal = mean_ - 1.96 * std_\n",
    "    right_boundary_pivotal = mean_ + 1.96 * std_\n",
    "    pivotal_CI = round(left_boundary_pivotal, 2), round(right_boundary_pivotal, 2)\n",
    "    \n",
    "    # Take quatililes as CI borders\n",
    "    left_boundary_non_pivotal = round(np.quantile(means, (1-alpha)/2),2)\n",
    "    right_boundary_non_pivotal = round(np.quantile(means, (1 + alpha)/2),2)\n",
    "    non_pivotal_CI = left_boundary_non_pivotal, right_boundary_non_pivotal\n",
    "    \n",
    "    return non_pivotal_CI, pivotal_CI, means"
   ]
  },
  {
   "cell_type": "code",
   "execution_count": 67,
   "metadata": {},
   "outputs": [],
   "source": [
    "non_pivotal_CI, pivotal_CI, means_ = get_bootstrap_CI_for_mean(price_feature)"
   ]
  },
  {
   "cell_type": "code",
   "execution_count": 68,
   "metadata": {},
   "outputs": [
    {
     "data": {
      "image/png": "[encoded data removed]",
      "text/plain": [
       "<Figure size 432x288 with 1 Axes>"
      ]
     },
     "metadata": {
      "needs_background": "light"
     },
     "output_type": "display_data"
    }
   ],
   "source": [
    "plt.xlabel(\"Bootstrap mean\")\n",
    "plt.title(f\"95 % Confidence Interval for price mean \\nNon-pivotal: {non_pivotal_CI} \\nPivotal: {pivotal_CI}\")\n",
    "plt.hist(means_, bins=35, edgecolor='black');\n",
    "plt.savefig('bootstrap_mean.png')"
   ]
  },
  {
   "cell_type": "code",
   "execution_count": 69,
   "metadata": {},
   "outputs": [],
   "source": [
    "price_cluster_0 = df[df['cluster'] == 0]['price'].values\n",
    "price_cluster_1 = df[df['cluster'] == 1]['price'].values"
   ]
  },
  {
   "cell_type": "code",
   "execution_count": 70,
   "metadata": {},
   "outputs": [],
   "source": [
    "def get_bootstrap_CI_for_mean_diff(vector1, vector2, alpha=0.95, K=5000, N=35):\n",
    "    \"\"\"\n",
    "    vector1: array to calcultat bootstrap CI for\n",
    "    vector2: array to calcultat bootstrap CI for \n",
    "    alpha: such that significance level 1 - alpha\n",
    "    K: number of bootstrap iteration\n",
    "    N: number of items for each iterations\n",
    "    \n",
    "    returns:\n",
    "    non_pivotal_CI: tuple of left_bound and right_bound\n",
    "    pivotal_CI: tuple of left_bound and right_bound\n",
    "    means: vector of mean for each iteration\n",
    "    \"\"\"\n",
    "    means = []\n",
    "    # Compute bootstrap mean of difference\n",
    "    for _ in range(K):\n",
    "        vec1 = np.random.choice(vector1, size=N)\n",
    "        vec2 = np.random.choice(vector2, size=N)\n",
    "        \n",
    "        # get difference between two sampled vectors\n",
    "        diff = np.mean(vec1) - np.mean(vec2)\n",
    "        means.append(np.mean(diff))\n",
    "    \n",
    "    # Compute pivotal CI\n",
    "    mean_ = np.mean(means)\n",
    "    std_ = np.std(means)\n",
    "    \n",
    "    # Assuming Gaussian distribution of means vector\n",
    "    left_boundary_pivotal = mean_ - 1.96 * std_\n",
    "    right_boundary_pivotal = mean_ + 1.96 * std_\n",
    "    pivotal_CI = round(left_boundary_pivotal, 2), round(right_boundary_pivotal, 2)\n",
    "    \n",
    "    # Take quatililes as CI borders\n",
    "    left_boundary_non_pivotal = round(np.quantile(means, (1-alpha)/2),2)\n",
    "    right_boundary_non_pivotal = round(np.quantile(means, (1 + alpha)/2),2)\n",
    "    non_pivotal_CI = left_boundary_non_pivotal, right_boundary_non_pivotal\n",
    "    \n",
    "    return non_pivotal_CI, pivotal_CI, means"
   ]
  },
  {
   "cell_type": "code",
   "execution_count": 71,
   "metadata": {},
   "outputs": [],
   "source": [
    "non_pivotal_CI, pivotal_CI, means_ = get_bootstrap_CI_for_mean_diff(price_cluster_0, price_cluster_1)"
   ]
  },
  {
   "cell_type": "code",
   "execution_count": 73,
   "metadata": {},
   "outputs": [
    {
     "data": {
      "image/png": "[encoded data removed]",
      "text/plain": [
       "<Figure size 432x288 with 1 Axes>"
      ]
     },
     "metadata": {
      "needs_background": "light"
     },
     "output_type": "display_data"
    }
   ],
   "source": [
    "plt.title(f\"95 % CI for price feature difference between 0 and 1 clusters \\n Non-pivotal: {non_pivotal_CI} \\n Pivotal: {pivotal_CI}\")\n",
    "plt.xlabel(\"Price difference between #1 and #2 clusters\");\n",
    "plt.hist(means_, bins=35, edgecolor='black');\n",
    "plt.savefig('boot_clusters_01.png')"
   ]
  },
  {
   "cell_type": "code",
   "execution_count": 81,
   "metadata": {},
   "outputs": [
    {
     "name": "stdout",
     "output_type": "stream",
     "text": [
      "Grand mean of diamonds price = 3977.42\n"
     ]
    }
   ],
   "source": [
    "# Calculate grand mean for price feature\n",
    "price_mean = np.mean(price_feature)\n",
    "print(f\"Grand mean of diamonds price = {round(price_mean, 2)}\")"
   ]
  },
  {
   "cell_type": "code",
   "execution_count": 82,
   "metadata": {},
   "outputs": [],
   "source": [
    "# Compute bootstrap CI for difference withing-cluster mean and grand mean\n",
    "non_pivotal_CI, pivotal_CI, means_ = get_bootstrap_CI_for_mean(price_cluster_0 - price_mean)"
   ]
  },
  {
   "cell_type": "code",
   "execution_count": 83,
   "metadata": {},
   "outputs": [
    {
     "data": {
      "image/png": "[encoded data removed]",
      "text/plain": [
       "<Figure size 432x288 with 1 Axes>"
      ]
     },
     "metadata": {
      "needs_background": "light"
     },
     "output_type": "display_data"
    }
   ],
   "source": [
    "plt.title(f\"95 % CI for price feature difference between #1 cluster and grand-mean \\n Non-pivotal: {non_pivotal_CI} \\n Pivotal: {pivotal_CI}\")\n",
    "plt.hist(means_, bins=35, edgecolor='black');\n",
    "plt.savefig('boot_grandmean')"
   ]
  }
 ],
 "metadata": {
  "kernelspec": {
   "display_name": "Python 3",
   "language": "python",
   "name": "python3"
  },
  "language_info": {
   "codemirror_mode": {
    "name": "ipython",
    "version": 3
   },
   "file_extension": ".py",
   "mimetype": "text/x-python",
   "name": "python",
   "nbconvert_exporter": "python",
   "pygments_lexer": "ipython3",
   "version": "3.8.3"
  }
 },
 "nbformat": 4,
 "nbformat_minor": 4
}
